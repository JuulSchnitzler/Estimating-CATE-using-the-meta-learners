{
 "cells": [
  {
   "metadata": {
    "ExecuteTime": {
     "end_time": "2024-06-19T18:42:14.347671Z",
     "start_time": "2024-06-19T18:42:14.330670Z"
    }
   },
   "cell_type": "code",
   "source": [
    "import pandas as pd\n",
    "from sklearn.model_selection import train_test_split \n",
    "from sklearn.preprocessing import StandardScaler\n",
    "from sklearn.linear_model import LogisticRegression\n",
    "from sklearn.feature_selection import SelectKBest, f_classif"
   ],
   "id": "ef3261eb4acd90a5",
   "outputs": [],
   "execution_count": 13
  },
  {
   "metadata": {
    "ExecuteTime": {
     "end_time": "2024-06-19T18:42:14.394670Z",
     "start_time": "2024-06-19T18:42:14.349673Z"
    }
   },
   "cell_type": "code",
   "source": [
    "# Get imputed data\n",
    "mimic_complete = pd.read_csv(\"./impute_mimic.csv\")\n",
    "mimic_complete.head(10)"
   ],
   "id": "13f3bba06c5d74a2",
   "outputs": [
    {
     "data": {
      "text/plain": [
       "   Unnamed: 0        id  mort_28   age  sex  weight  height    pf_ratio  \\\n",
       "0           0  32128372      0.0  75.0  0.0    93.0   168.0  241.944444   \n",
       "1           1  34100191      0.0  47.0  1.0   127.0   183.0  166.356061   \n",
       "2           2  38292466      0.0  85.0  1.0    77.5   170.0  224.000000   \n",
       "3           3  32743332      0.0  85.0  1.0    90.7   170.0  205.714286   \n",
       "4           4  35009126      1.0  64.0  1.0    70.0   183.0  173.777778   \n",
       "5           5  38740124      0.0  38.0  1.0    84.1   178.0  345.000000   \n",
       "6           6  32359580      1.0  69.0  1.0    86.2   185.0  354.723810   \n",
       "7           7  39880770      0.0  28.0  0.0   120.0   170.0  770.000000   \n",
       "8           8  37153661      1.0  82.0  0.0    46.3   157.0  140.071429   \n",
       "9           9  33630048      0.0  70.0  0.0    63.7   157.0  310.000000   \n",
       "\n",
       "          po2       pco2  ...       fio2       hco3  heart_rate  \\\n",
       "0  130.666667  28.111111  ...  50.000000  12.000000  115.408163   \n",
       "1  113.076923  34.461538  ...  68.500000  12.750000  115.407407   \n",
       "2  112.000000  38.000000  ...  51.818182  23.000000   70.041667   \n",
       "3   72.000000  38.000000  ...  36.875000  27.000000   70.480000   \n",
       "4   94.666667  38.666667  ...  52.500000  21.666667   73.955556   \n",
       "5  199.000000  44.000000  ...  60.000000  25.500000  102.909091   \n",
       "6  213.500000  32.000000  ...  66.250000   9.888889   93.500000   \n",
       "7  308.000000  35.000000  ...  51.111111  25.000000   95.193548   \n",
       "8  109.000000  36.000000  ...  60.000000  17.500000   96.090909   \n",
       "9  126.000000  29.666667  ...  50.000000  16.000000   70.720000   \n",
       "\n",
       "   minute_volume      peep  plateau_pressure  respiratory_rate  \\\n",
       "0       8.241111  8.777778         24.333333         18.943662   \n",
       "1      16.628571  7.375000         17.500000         19.857143   \n",
       "2       9.433333  5.000000         22.333333         15.833333   \n",
       "3       7.478571  5.000000         24.000000         18.200000   \n",
       "4       7.050000  5.428571         14.328571         15.016667   \n",
       "5       7.725000  5.750000         18.275128         16.230769   \n",
       "6      10.500000  8.333333         25.500000         23.852941   \n",
       "7       7.842857  5.625000         15.000000         19.526316   \n",
       "8       7.962500  6.250000         19.000000         21.292683   \n",
       "9       6.516667  5.000000         16.500000         16.451613   \n",
       "\n",
       "   syst_blood_pressure  diastolic_blood_pressure  peep_regime  \n",
       "0           100.600000                 68.200000          0.0  \n",
       "1            99.000000                 68.000000          0.0  \n",
       "2           102.000000                 46.333333          0.0  \n",
       "3           108.083333                 46.208333          0.0  \n",
       "4           103.415094                 57.377358          0.0  \n",
       "5           126.181818                 78.909091          0.0  \n",
       "6            91.000000                 56.363636          0.0  \n",
       "7           112.620690                 51.206897          0.0  \n",
       "8           100.000000                 46.235294          0.0  \n",
       "9           100.705882                 54.470588          0.0  \n",
       "\n",
       "[10 rows x 28 columns]"
      ],
      "text/html": [
       "<div>\n",
       "<style scoped>\n",
       "    .dataframe tbody tr th:only-of-type {\n",
       "        vertical-align: middle;\n",
       "    }\n",
       "\n",
       "    .dataframe tbody tr th {\n",
       "        vertical-align: top;\n",
       "    }\n",
       "\n",
       "    .dataframe thead th {\n",
       "        text-align: right;\n",
       "    }\n",
       "</style>\n",
       "<table border=\"1\" class=\"dataframe\">\n",
       "  <thead>\n",
       "    <tr style=\"text-align: right;\">\n",
       "      <th></th>\n",
       "      <th>Unnamed: 0</th>\n",
       "      <th>id</th>\n",
       "      <th>mort_28</th>\n",
       "      <th>age</th>\n",
       "      <th>sex</th>\n",
       "      <th>weight</th>\n",
       "      <th>height</th>\n",
       "      <th>pf_ratio</th>\n",
       "      <th>po2</th>\n",
       "      <th>pco2</th>\n",
       "      <th>...</th>\n",
       "      <th>fio2</th>\n",
       "      <th>hco3</th>\n",
       "      <th>heart_rate</th>\n",
       "      <th>minute_volume</th>\n",
       "      <th>peep</th>\n",
       "      <th>plateau_pressure</th>\n",
       "      <th>respiratory_rate</th>\n",
       "      <th>syst_blood_pressure</th>\n",
       "      <th>diastolic_blood_pressure</th>\n",
       "      <th>peep_regime</th>\n",
       "    </tr>\n",
       "  </thead>\n",
       "  <tbody>\n",
       "    <tr>\n",
       "      <th>0</th>\n",
       "      <td>0</td>\n",
       "      <td>32128372</td>\n",
       "      <td>0.0</td>\n",
       "      <td>75.0</td>\n",
       "      <td>0.0</td>\n",
       "      <td>93.0</td>\n",
       "      <td>168.0</td>\n",
       "      <td>241.944444</td>\n",
       "      <td>130.666667</td>\n",
       "      <td>28.111111</td>\n",
       "      <td>...</td>\n",
       "      <td>50.000000</td>\n",
       "      <td>12.000000</td>\n",
       "      <td>115.408163</td>\n",
       "      <td>8.241111</td>\n",
       "      <td>8.777778</td>\n",
       "      <td>24.333333</td>\n",
       "      <td>18.943662</td>\n",
       "      <td>100.600000</td>\n",
       "      <td>68.200000</td>\n",
       "      <td>0.0</td>\n",
       "    </tr>\n",
       "    <tr>\n",
       "      <th>1</th>\n",
       "      <td>1</td>\n",
       "      <td>34100191</td>\n",
       "      <td>0.0</td>\n",
       "      <td>47.0</td>\n",
       "      <td>1.0</td>\n",
       "      <td>127.0</td>\n",
       "      <td>183.0</td>\n",
       "      <td>166.356061</td>\n",
       "      <td>113.076923</td>\n",
       "      <td>34.461538</td>\n",
       "      <td>...</td>\n",
       "      <td>68.500000</td>\n",
       "      <td>12.750000</td>\n",
       "      <td>115.407407</td>\n",
       "      <td>16.628571</td>\n",
       "      <td>7.375000</td>\n",
       "      <td>17.500000</td>\n",
       "      <td>19.857143</td>\n",
       "      <td>99.000000</td>\n",
       "      <td>68.000000</td>\n",
       "      <td>0.0</td>\n",
       "    </tr>\n",
       "    <tr>\n",
       "      <th>2</th>\n",
       "      <td>2</td>\n",
       "      <td>38292466</td>\n",
       "      <td>0.0</td>\n",
       "      <td>85.0</td>\n",
       "      <td>1.0</td>\n",
       "      <td>77.5</td>\n",
       "      <td>170.0</td>\n",
       "      <td>224.000000</td>\n",
       "      <td>112.000000</td>\n",
       "      <td>38.000000</td>\n",
       "      <td>...</td>\n",
       "      <td>51.818182</td>\n",
       "      <td>23.000000</td>\n",
       "      <td>70.041667</td>\n",
       "      <td>9.433333</td>\n",
       "      <td>5.000000</td>\n",
       "      <td>22.333333</td>\n",
       "      <td>15.833333</td>\n",
       "      <td>102.000000</td>\n",
       "      <td>46.333333</td>\n",
       "      <td>0.0</td>\n",
       "    </tr>\n",
       "    <tr>\n",
       "      <th>3</th>\n",
       "      <td>3</td>\n",
       "      <td>32743332</td>\n",
       "      <td>0.0</td>\n",
       "      <td>85.0</td>\n",
       "      <td>1.0</td>\n",
       "      <td>90.7</td>\n",
       "      <td>170.0</td>\n",
       "      <td>205.714286</td>\n",
       "      <td>72.000000</td>\n",
       "      <td>38.000000</td>\n",
       "      <td>...</td>\n",
       "      <td>36.875000</td>\n",
       "      <td>27.000000</td>\n",
       "      <td>70.480000</td>\n",
       "      <td>7.478571</td>\n",
       "      <td>5.000000</td>\n",
       "      <td>24.000000</td>\n",
       "      <td>18.200000</td>\n",
       "      <td>108.083333</td>\n",
       "      <td>46.208333</td>\n",
       "      <td>0.0</td>\n",
       "    </tr>\n",
       "    <tr>\n",
       "      <th>4</th>\n",
       "      <td>4</td>\n",
       "      <td>35009126</td>\n",
       "      <td>1.0</td>\n",
       "      <td>64.0</td>\n",
       "      <td>1.0</td>\n",
       "      <td>70.0</td>\n",
       "      <td>183.0</td>\n",
       "      <td>173.777778</td>\n",
       "      <td>94.666667</td>\n",
       "      <td>38.666667</td>\n",
       "      <td>...</td>\n",
       "      <td>52.500000</td>\n",
       "      <td>21.666667</td>\n",
       "      <td>73.955556</td>\n",
       "      <td>7.050000</td>\n",
       "      <td>5.428571</td>\n",
       "      <td>14.328571</td>\n",
       "      <td>15.016667</td>\n",
       "      <td>103.415094</td>\n",
       "      <td>57.377358</td>\n",
       "      <td>0.0</td>\n",
       "    </tr>\n",
       "    <tr>\n",
       "      <th>5</th>\n",
       "      <td>5</td>\n",
       "      <td>38740124</td>\n",
       "      <td>0.0</td>\n",
       "      <td>38.0</td>\n",
       "      <td>1.0</td>\n",
       "      <td>84.1</td>\n",
       "      <td>178.0</td>\n",
       "      <td>345.000000</td>\n",
       "      <td>199.000000</td>\n",
       "      <td>44.000000</td>\n",
       "      <td>...</td>\n",
       "      <td>60.000000</td>\n",
       "      <td>25.500000</td>\n",
       "      <td>102.909091</td>\n",
       "      <td>7.725000</td>\n",
       "      <td>5.750000</td>\n",
       "      <td>18.275128</td>\n",
       "      <td>16.230769</td>\n",
       "      <td>126.181818</td>\n",
       "      <td>78.909091</td>\n",
       "      <td>0.0</td>\n",
       "    </tr>\n",
       "    <tr>\n",
       "      <th>6</th>\n",
       "      <td>6</td>\n",
       "      <td>32359580</td>\n",
       "      <td>1.0</td>\n",
       "      <td>69.0</td>\n",
       "      <td>1.0</td>\n",
       "      <td>86.2</td>\n",
       "      <td>185.0</td>\n",
       "      <td>354.723810</td>\n",
       "      <td>213.500000</td>\n",
       "      <td>32.000000</td>\n",
       "      <td>...</td>\n",
       "      <td>66.250000</td>\n",
       "      <td>9.888889</td>\n",
       "      <td>93.500000</td>\n",
       "      <td>10.500000</td>\n",
       "      <td>8.333333</td>\n",
       "      <td>25.500000</td>\n",
       "      <td>23.852941</td>\n",
       "      <td>91.000000</td>\n",
       "      <td>56.363636</td>\n",
       "      <td>0.0</td>\n",
       "    </tr>\n",
       "    <tr>\n",
       "      <th>7</th>\n",
       "      <td>7</td>\n",
       "      <td>39880770</td>\n",
       "      <td>0.0</td>\n",
       "      <td>28.0</td>\n",
       "      <td>0.0</td>\n",
       "      <td>120.0</td>\n",
       "      <td>170.0</td>\n",
       "      <td>770.000000</td>\n",
       "      <td>308.000000</td>\n",
       "      <td>35.000000</td>\n",
       "      <td>...</td>\n",
       "      <td>51.111111</td>\n",
       "      <td>25.000000</td>\n",
       "      <td>95.193548</td>\n",
       "      <td>7.842857</td>\n",
       "      <td>5.625000</td>\n",
       "      <td>15.000000</td>\n",
       "      <td>19.526316</td>\n",
       "      <td>112.620690</td>\n",
       "      <td>51.206897</td>\n",
       "      <td>0.0</td>\n",
       "    </tr>\n",
       "    <tr>\n",
       "      <th>8</th>\n",
       "      <td>8</td>\n",
       "      <td>37153661</td>\n",
       "      <td>1.0</td>\n",
       "      <td>82.0</td>\n",
       "      <td>0.0</td>\n",
       "      <td>46.3</td>\n",
       "      <td>157.0</td>\n",
       "      <td>140.071429</td>\n",
       "      <td>109.000000</td>\n",
       "      <td>36.000000</td>\n",
       "      <td>...</td>\n",
       "      <td>60.000000</td>\n",
       "      <td>17.500000</td>\n",
       "      <td>96.090909</td>\n",
       "      <td>7.962500</td>\n",
       "      <td>6.250000</td>\n",
       "      <td>19.000000</td>\n",
       "      <td>21.292683</td>\n",
       "      <td>100.000000</td>\n",
       "      <td>46.235294</td>\n",
       "      <td>0.0</td>\n",
       "    </tr>\n",
       "    <tr>\n",
       "      <th>9</th>\n",
       "      <td>9</td>\n",
       "      <td>33630048</td>\n",
       "      <td>0.0</td>\n",
       "      <td>70.0</td>\n",
       "      <td>0.0</td>\n",
       "      <td>63.7</td>\n",
       "      <td>157.0</td>\n",
       "      <td>310.000000</td>\n",
       "      <td>126.000000</td>\n",
       "      <td>29.666667</td>\n",
       "      <td>...</td>\n",
       "      <td>50.000000</td>\n",
       "      <td>16.000000</td>\n",
       "      <td>70.720000</td>\n",
       "      <td>6.516667</td>\n",
       "      <td>5.000000</td>\n",
       "      <td>16.500000</td>\n",
       "      <td>16.451613</td>\n",
       "      <td>100.705882</td>\n",
       "      <td>54.470588</td>\n",
       "      <td>0.0</td>\n",
       "    </tr>\n",
       "  </tbody>\n",
       "</table>\n",
       "<p>10 rows × 28 columns</p>\n",
       "</div>"
      ]
     },
     "execution_count": 14,
     "metadata": {},
     "output_type": "execute_result"
    }
   ],
   "execution_count": 14
  },
  {
   "metadata": {
    "ExecuteTime": {
     "end_time": "2024-06-19T18:42:14.410673Z",
     "start_time": "2024-06-19T18:42:14.395671Z"
    }
   },
   "cell_type": "code",
   "source": [
    "# Create variables to store outcome Y, treatment T, and features X\n",
    "y = \"mort_28\"\n",
    "T = \"peep_regime\"\n",
    "X = [\"age\", \"sex\", \"weight\", \"height\", \"pf_ratio\", \"po2\", \"pco2\", \"ph\", \"driving_pressure\", \"lung_compliance\", \"map\", \"bilirubin\", \"creatinine\", \"platelets\", \"urea\", \"fio2\", \"hco3\", \"heart_rate\", \"minute_volume\", \"peep\", \"plateau_pressure\", \"respiratory_rate\", \"syst_blood_pressure\", \"diastolic_blood_pressure\"]"
   ],
   "id": "ac5e81c1402baa6",
   "outputs": [],
   "execution_count": 15
  },
  {
   "metadata": {
    "ExecuteTime": {
     "end_time": "2024-06-19T18:42:14.426670Z",
     "start_time": "2024-06-19T18:42:14.411671Z"
    }
   },
   "cell_type": "code",
   "source": [
    "# Train and test set\n",
    "train, test = train_test_split(mimic_complete, test_size=0.1)\n",
    "train[X].shape"
   ],
   "id": "eeaa2c6e6d65059c",
   "outputs": [
    {
     "data": {
      "text/plain": [
       "(3546, 24)"
      ]
     },
     "execution_count": 16,
     "metadata": {},
     "output_type": "execute_result"
    }
   ],
   "execution_count": 16
  },
  {
   "metadata": {},
   "cell_type": "markdown",
   "source": "### Correlation",
   "id": "75591ecefaa03cd5"
  },
  {
   "metadata": {
    "ExecuteTime": {
     "end_time": "2024-06-19T18:42:14.457669Z",
     "start_time": "2024-06-19T18:42:14.428670Z"
    }
   },
   "cell_type": "code",
   "source": [
    "# Correlation to identify potentially important features\n",
    "correlations = train[X + [y]].corr()\n",
    "correlation_with_target = correlations[y].drop(y)\n",
    "sorted_correlation_with_target = correlation_with_target.abs().sort_values(ascending=False)\n",
    "print(sorted_correlation_with_target)"
   ],
   "id": "7e9bdd942d2b8958",
   "outputs": [
    {
     "name": "stdout",
     "output_type": "stream",
     "text": [
      "age                         0.152554\n",
      "urea                        0.128442\n",
      "weight                      0.095732\n",
      "hco3                        0.092184\n",
      "respiratory_rate            0.080510\n",
      "po2                         0.064724\n",
      "creatinine                  0.064595\n",
      "bilirubin                   0.060566\n",
      "pco2                        0.058861\n",
      "lung_compliance             0.058737\n",
      "ph                          0.053391\n",
      "height                      0.038754\n",
      "minute_volume               0.032690\n",
      "heart_rate                  0.026476\n",
      "fio2                        0.024717\n",
      "sex                         0.024282\n",
      "diastolic_blood_pressure    0.021993\n",
      "plateau_pressure            0.021573\n",
      "platelets                   0.021555\n",
      "map                         0.016772\n",
      "driving_pressure            0.014916\n",
      "pf_ratio                    0.011666\n",
      "syst_blood_pressure         0.009317\n",
      "peep                        0.003975\n",
      "Name: mort_28, dtype: float64\n"
     ]
    }
   ],
   "execution_count": 17
  },
  {
   "metadata": {
    "ExecuteTime": {
     "end_time": "2024-06-19T18:42:14.472672Z",
     "start_time": "2024-06-19T18:42:14.458673Z"
    }
   },
   "cell_type": "code",
   "source": [
    "# Features with higher abs values of correlation with T are more predictive\n",
    "# Select features that have abs correlation > 0.1\n",
    "threshold = 0.06\n",
    "selected_features_correlation = sorted_correlation_with_target[sorted_correlation_with_target > threshold].index.tolist()\n",
    "print(selected_features_correlation)"
   ],
   "id": "40b5a6f4795b7d46",
   "outputs": [
    {
     "name": "stdout",
     "output_type": "stream",
     "text": [
      "['age', 'urea', 'weight', 'hco3', 'respiratory_rate', 'po2', 'creatinine', 'bilirubin']\n"
     ]
    }
   ],
   "execution_count": 18
  },
  {
   "metadata": {},
   "cell_type": "markdown",
   "source": "### Univariate feature selection",
   "id": "93189b23704d4cdd"
  },
  {
   "metadata": {
    "ExecuteTime": {
     "end_time": "2024-06-19T18:42:14.504671Z",
     "start_time": "2024-06-19T18:42:14.473674Z"
    }
   },
   "cell_type": "code",
   "source": [
    "# Univariate feature selection (selecting best features based on univariate statistical tests), using F-test to sort features\n",
    "selector = SelectKBest(score_func=f_classif, k='all')\n",
    "selector.fit(train[X], train[y])\n",
    "\n",
    "scores_univariate = pd.DataFrame({'Feature': train[X].columns, 'Scores': selector.scores_})\n",
    "scores_univariate = scores_univariate.sort_values(by='Scores', ascending=False)\n",
    "print(scores_univariate)"
   ],
   "id": "1023bbcfe35110a",
   "outputs": [
    {
     "name": "stdout",
     "output_type": "stream",
     "text": [
      "                     Feature     Scores\n",
      "0                        age  84.443339\n",
      "14                      urea  59.447519\n",
      "2                     weight  32.779576\n",
      "16                      hco3  30.374696\n",
      "21          respiratory_rate  23.121569\n",
      "5                        po2  14.909193\n",
      "12                creatinine  14.849424\n",
      "11                 bilirubin  13.048181\n",
      "6                       pco2  12.321206\n",
      "9            lung_compliance  12.269456\n",
      "7                         ph  10.131559\n",
      "3                     height   5.330771\n",
      "18             minute_volume   3.791267\n",
      "17                heart_rate   2.486079\n",
      "15                      fio2   2.166501\n",
      "1                        sex   2.090827\n",
      "23  diastolic_blood_pressure   1.715010\n",
      "20          plateau_pressure   1.650136\n",
      "13                 platelets   1.647412\n",
      "10                       map   0.997224\n",
      "8           driving_pressure   0.788618\n",
      "4                   pf_ratio   0.482380\n",
      "22       syst_blood_pressure   0.307665\n",
      "19                      peep   0.055993\n"
     ]
    }
   ],
   "execution_count": 19
  },
  {
   "metadata": {
    "ExecuteTime": {
     "end_time": "2024-06-19T18:42:14.536834Z",
     "start_time": "2024-06-19T18:42:14.520672Z"
    }
   },
   "cell_type": "code",
   "source": [
    "# Select features that have f-test score > threshold\n",
    "threshold = 10\n",
    "selected_features_univariate = scores_univariate[scores_univariate['Scores'] > threshold]['Feature'].tolist()\n",
    "print(selected_features_univariate)"
   ],
   "id": "b83eebae1df31a7",
   "outputs": [
    {
     "name": "stdout",
     "output_type": "stream",
     "text": [
      "['age', 'urea', 'weight', 'hco3', 'respiratory_rate', 'po2', 'creatinine', 'bilirubin', 'pco2', 'lung_compliance', 'ph']\n"
     ]
    }
   ],
   "execution_count": 20
  },
  {
   "metadata": {},
   "cell_type": "markdown",
   "source": "### Recursive feature elimination (with cross-validation)",
   "id": "f615e160b7d7b71c"
  },
  {
   "metadata": {
    "ExecuteTime": {
     "end_time": "2024-06-19T18:42:17.023475Z",
     "start_time": "2024-06-19T18:42:14.701347Z"
    }
   },
   "cell_type": "code",
   "source": [
    "from sklearn.model_selection import StratifiedKFold\n",
    "from sklearn.feature_selection import RFECV\n",
    "\n",
    "# Recursive feature elimination (given an external estimator that assigns weights to features, the goal of RFE is to select features by recursively considering smaller and smaller sets of features)\n",
    "min_features_to_select = 1 \n",
    "clf = LogisticRegression()\n",
    "cv = StratifiedKFold(5)\n",
    "\n",
    "rfecv = RFECV(\n",
    "    estimator=clf,\n",
    "    step=1,\n",
    "    cv=cv,\n",
    "    scoring=\"accuracy\",\n",
    "    min_features_to_select=min_features_to_select,\n",
    "    n_jobs=2,\n",
    ")\n",
    "\n",
    "# Scaling Data\n",
    "scaler = StandardScaler()\n",
    "X_train = scaler.fit_transform(train[X])\n",
    "\n",
    "rfecv.fit(X_train, train[y])\n",
    "selected_features_recursive = train[X].columns[rfecv.support_].tolist()\n",
    "print(f\"Optimal number of features: {rfecv.n_features_}\")\n",
    "print(f\"Selected features: {selected_features_recursive}\")"
   ],
   "id": "ca4516eec0f28cb7",
   "outputs": [
    {
     "name": "stdout",
     "output_type": "stream",
     "text": [
      "Optimal number of features: 10\n",
      "Selected features: ['age', 'weight', 'pf_ratio', 'po2', 'driving_pressure', 'lung_compliance', 'bilirubin', 'urea', 'fio2', 'minute_volume']\n"
     ]
    }
   ],
   "execution_count": 21
  },
  {
   "metadata": {},
   "cell_type": "markdown",
   "source": "### Tree-based feature selection",
   "id": "e53ec2ce850ecbb7"
  },
  {
   "metadata": {
    "ExecuteTime": {
     "end_time": "2024-06-19T18:42:17.274476Z",
     "start_time": "2024-06-19T18:42:17.024478Z"
    }
   },
   "cell_type": "code",
   "source": [
    "from sklearn.ensemble import ExtraTreesClassifier\n",
    "from sklearn.datasets import load_iris\n",
    "from sklearn.feature_selection import SelectFromModel\n",
    "\n",
    "clf = ExtraTreesClassifier(n_estimators=50)\n",
    "clf = clf.fit(train[X], train[y])\n",
    "importances = clf.feature_importances_  \n",
    "\n",
    "# Create a DataFrame for visualization\n",
    "feature_importances = pd.DataFrame({'Feature': train[X].columns, 'Importance': importances})\n",
    "feature_importances = feature_importances.sort_values(by='Importance', ascending=False)\n",
    "print(feature_importances)"
   ],
   "id": "790411b9955101f6",
   "outputs": [
    {
     "name": "stdout",
     "output_type": "stream",
     "text": [
      "                     Feature  Importance\n",
      "0                        age    0.056777\n",
      "14                      urea    0.050576\n",
      "2                     weight    0.045784\n",
      "11                 bilirubin    0.045729\n",
      "7                         ph    0.044195\n",
      "17                heart_rate    0.043668\n",
      "16                      hco3    0.043123\n",
      "18             minute_volume    0.043111\n",
      "12                creatinine    0.043021\n",
      "13                 platelets    0.042491\n",
      "15                      fio2    0.042342\n",
      "6                       pco2    0.042009\n",
      "5                        po2    0.041790\n",
      "21          respiratory_rate    0.041652\n",
      "22       syst_blood_pressure    0.041556\n",
      "10                       map    0.041356\n",
      "23  diastolic_blood_pressure    0.041178\n",
      "4                   pf_ratio    0.041007\n",
      "20          plateau_pressure    0.040420\n",
      "9            lung_compliance    0.040350\n",
      "8           driving_pressure    0.038567\n",
      "3                     height    0.038061\n",
      "19                      peep    0.035504\n",
      "1                        sex    0.015735\n"
     ]
    }
   ],
   "execution_count": 22
  },
  {
   "metadata": {
    "ExecuteTime": {
     "end_time": "2024-06-19T18:42:17.290603Z",
     "start_time": "2024-06-19T18:42:17.275479Z"
    }
   },
   "cell_type": "code",
   "source": [
    "# Threshold for selection\n",
    "threshold = 0.042\n",
    "selected_features_tree = feature_importances[feature_importances['Importance'] > threshold]['Feature'].tolist()\n",
    "print(selected_features_tree)"
   ],
   "id": "8d657b64a268c04c",
   "outputs": [
    {
     "name": "stdout",
     "output_type": "stream",
     "text": [
      "['age', 'urea', 'weight', 'bilirubin', 'ph', 'heart_rate', 'hco3', 'minute_volume', 'creatinine', 'platelets', 'fio2', 'pco2']\n"
     ]
    }
   ],
   "execution_count": 23
  },
  {
   "metadata": {},
   "cell_type": "markdown",
   "source": "### Combining different feature selectors",
   "id": "1016b248d6e674fd"
  },
  {
   "metadata": {
    "ExecuteTime": {
     "end_time": "2024-06-19T18:42:17.306115Z",
     "start_time": "2024-06-19T18:42:17.292112Z"
    }
   },
   "cell_type": "code",
   "source": [
    "from collections import Counter\n",
    "\n",
    "all_selected_features = selected_features_correlation + selected_features_univariate + selected_features_recursive + selected_features_tree\n",
    "feature_votes = Counter(all_selected_features)\n",
    "selected_features_voting = [feature for feature, votes in feature_votes.items() if votes > 1]  # Example: more than 1 vote\n",
    "print(selected_features_voting)"
   ],
   "id": "5235bc11c9b12abe",
   "outputs": [
    {
     "name": "stdout",
     "output_type": "stream",
     "text": [
      "['age', 'urea', 'weight', 'hco3', 'respiratory_rate', 'po2', 'creatinine', 'bilirubin', 'pco2', 'lung_compliance', 'ph', 'fio2', 'minute_volume']\n"
     ]
    }
   ],
   "execution_count": 24
  }
 ],
 "metadata": {
  "kernelspec": {
   "display_name": "Python 3",
   "language": "python",
   "name": "python3"
  },
  "language_info": {
   "codemirror_mode": {
    "name": "ipython",
    "version": 2
   },
   "file_extension": ".py",
   "mimetype": "text/x-python",
   "name": "python",
   "nbconvert_exporter": "python",
   "pygments_lexer": "ipython2",
   "version": "2.7.6"
  }
 },
 "nbformat": 4,
 "nbformat_minor": 5
}

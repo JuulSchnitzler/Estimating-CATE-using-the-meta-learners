{
 "cells": [
  {
   "cell_type": "code",
   "id": "initial_id",
   "metadata": {
    "collapsed": true,
    "ExecuteTime": {
     "end_time": "2024-06-07T08:27:12.877023Z",
     "start_time": "2024-06-07T08:27:12.861439Z"
    }
   },
   "source": [
    "import pandas as pd\n",
    "import numpy as np\n",
    "from matplotlib import pyplot as plt\n",
    "from toolz import curry\n",
    "from sklearn.model_selection import train_test_split \n",
    "from sklearn.preprocessing import MinMaxScaler"
   ],
   "execution_count": 70,
   "outputs": []
  },
  {
   "metadata": {
    "ExecuteTime": {
     "end_time": "2024-06-07T08:27:14.074556Z",
     "start_time": "2024-06-07T08:27:14.017884Z"
    }
   },
   "cell_type": "code",
   "source": [
    "# Get imputed data\n",
    "mimic_complete = pd.read_csv(\"./impute_mimic.csv\")\n",
    "mimic_complete.head(10)"
   ],
   "id": "7e2382b58360a067",
   "execution_count": 71,
   "outputs": []
  },
  {
   "metadata": {
    "ExecuteTime": {
     "end_time": "2024-06-07T07:53:55.757437Z",
     "start_time": "2024-06-07T07:53:55.743771Z"
    }
   },
   "cell_type": "code",
   "source": [
    "# Train and test set\n",
    "train, test = train_test_split(mimic_complete, test_size=0.3, random_state=None)\n",
    "print(train.shape, test.shape)"
   ],
   "id": "d734e67381cb978f",
   "execution_count": 65,
   "outputs": []
  },
  {
   "metadata": {
    "ExecuteTime": {
     "end_time": "2024-06-07T07:53:56.090953Z",
     "start_time": "2024-06-07T07:53:56.078957Z"
    }
   },
   "cell_type": "code",
   "source": [
    "# Create variables to store outcome Y, treatment T, and features X\n",
    "y = \"mort_28\"\n",
    "T = \"peep_regime\"\n",
    "X = [\"age\", \"sex\", \"weight\", \"height\", \"pf_ratio\", \"po2\", \"pco2\", \"ph\", \"driving_pressure\", \"lung_compliance\", \"map\", \"bilirubin\", \"creatinine\", \"platelets\", \"urea\", \"fio2\", \"hco3\", \"heart_rate\", \"minute_volume\", \"peep\", \"plateau_pressure\", \"respiratory_rate\", \"syst_blood_pressure\", \"diastolic_blood_pressure\"]"
   ],
   "id": "c683f436a7c8ced1",
   "execution_count": 66,
   "outputs": []
  },
  {
   "metadata": {
    "ExecuteTime": {
     "end_time": "2024-06-07T07:53:56.347423Z",
     "start_time": "2024-06-07T07:53:56.308914Z"
    }
   },
   "cell_type": "code",
   "source": [
    "# Normalizing Data\n",
    "normalizer = MinMaxScaler()\n",
    "train[X] = normalizer.fit_transform(train[X])\n",
    "test[X] = normalizer.fit_transform(test[X])"
   ],
   "id": "1272d19024a9e47f",
   "execution_count": 67,
   "outputs": []
  },
  {
   "metadata": {
    "ExecuteTime": {
     "end_time": "2024-06-07T07:53:57.416665Z",
     "start_time": "2024-06-07T07:53:57.368911Z"
    }
   },
   "cell_type": "code",
   "source": "mimic_complete.head(10)",
   "id": "c2ab39dcaa06f7a1",
   "execution_count": 68,
   "outputs": []
  },
  {
   "metadata": {
    "ExecuteTime": {
     "end_time": "2024-06-07T07:54:16.677114Z",
     "start_time": "2024-06-07T07:54:16.650739Z"
    }
   },
   "cell_type": "code",
   "source": "print(train[X])",
   "id": "2568472ffba7d124",
   "execution_count": 69,
   "outputs": []
  },
  {
   "metadata": {
    "ExecuteTime": {
     "end_time": "2024-06-06T12:45:46.276808Z",
     "start_time": "2024-06-06T12:45:46.245564Z"
    }
   },
   "cell_type": "code",
   "source": [
    "# Function to calculate the elasticity \n",
    "@curry\n",
    "def elast(data, y, t):\n",
    "        return (np.sum((data[t] - data[t].mean())*(data[y] - data[y].mean())) /\n",
    "                (np.sum((data[t] - data[t].mean())**2) + 1e-10))\n",
    "\n",
    "# Function to calculate the cumulative gain\n",
    "def cumulative_gain(dataset, prediction, y, t, min_periods=30, steps=100):\n",
    "    size = dataset.shape[0]\n",
    "    ordered_df = dataset.sort_values(prediction, ascending=False).reset_index(drop=True)\n",
    "    n_rows = list(range(min_periods, size, size // steps)) + [size]\n",
    "    return np.array([elast(ordered_df.head(rows), y, t) * (rows/size) for rows in n_rows])"
   ],
   "id": "ae004d615c8adbc6",
   "execution_count": 29,
   "outputs": []
  },
  {
   "metadata": {},
   "cell_type": "markdown",
   "source": "## 1. LGBM Regressor",
   "id": "39c13d081729db0b"
  },
  {
   "metadata": {
    "ExecuteTime": {
     "end_time": "2024-06-06T12:45:48.243256Z",
     "start_time": "2024-06-06T12:45:47.209661Z"
    }
   },
   "cell_type": "code",
   "source": [
    "from Simulation.X_learner import X_learner_lgbm\n",
    "from Simulation.T_learner import T_learner_lgbm\n",
    "from Simulation.S_learner import S_learner_lgbm\n",
    "\n",
    "# Get CATE estimates for S-, T-, and X-learner using LGBM\n",
    "s_cate_train, s_cate_test = S_learner_lgbm(train, test, X, T, y)\n",
    "t_cate_train, t_cate_test = T_learner_lgbm(train, test, X, T, y)\n",
    "x_cate_train, x_cate_test = X_learner_lgbm(train, test, X, T, y)"
   ],
   "id": "8491dfbe0dd82838",
   "execution_count": 30,
   "outputs": []
  },
  {
   "metadata": {
    "ExecuteTime": {
     "end_time": "2024-06-06T12:45:48.726846Z",
     "start_time": "2024-06-06T12:45:48.243256Z"
    }
   },
   "cell_type": "code",
   "source": [
    "# Plot cumulative gain curve for S-learner (LGBM)\n",
    "gain_curve_test_s_lgbm = cumulative_gain(s_cate_test, \"pred_cate\", y=\"mort_28\", t=\"peep_regime\")\n",
    "gain_curve_train_s_lgbm = cumulative_gain(s_cate_train, \"pred_cate\", y=\"mort_28\", t=\"peep_regime\")\n",
    "plt.plot(gain_curve_test_s_lgbm, color=\"C0\", label=\"Test\")\n",
    "plt.plot(gain_curve_train_s_lgbm, color=\"C1\", label=\"Train\")\n",
    "plt.plot([0, 100], [0, elast(test, \"mort_28\", \"peep_regime\")], linestyle=\"--\", color=\"black\", label=\"Baseline\")\n",
    "plt.legend()\n",
    "plt.title(\"S-Learner, using LGBM\");"
   ],
   "id": "7552272b9c8ea630",
   "execution_count": 31,
   "outputs": []
  },
  {
   "metadata": {
    "ExecuteTime": {
     "end_time": "2024-06-06T12:45:49.350741Z",
     "start_time": "2024-06-06T12:45:49.059469Z"
    }
   },
   "cell_type": "code",
   "source": [
    "# T-Learner, LGBM: Evaluating the model by looking at the cumulative gain curve\n",
    "gain_curve_test_t_lgbm = cumulative_gain(t_cate_test, \"pred_cate\", y=\"mort_28\", t=\"peep_regime\")\n",
    "gain_curve_train_t_lgbm = cumulative_gain(t_cate_train, \"pred_cate\", y=\"mort_28\", t=\"peep_regime\")\n",
    "plt.plot(gain_curve_test_t_lgbm, color=\"C0\", label=\"Test\")\n",
    "plt.plot(gain_curve_train_t_lgbm, color=\"C1\", label=\"Train\")\n",
    "plt.plot([0, 100], [0, elast(test, \"mort_28\", \"peep_regime\")], linestyle=\"--\", color=\"black\", label=\"Baseline\")\n",
    "plt.legend()\n",
    "plt.xlabel(\"% of Top Sensitivity\")\n",
    "plt.ylabel(\"Cumulative Gain\")\n",
    "plt.title(\"T-Learner, using LGBM\");"
   ],
   "id": "358e5548ec08bdb9",
   "execution_count": 32,
   "outputs": []
  },
  {
   "metadata": {
    "ExecuteTime": {
     "end_time": "2024-06-06T12:45:52.652287Z",
     "start_time": "2024-06-06T12:45:52.354424Z"
    }
   },
   "cell_type": "code",
   "source": [
    "# T-Learner, LGBM: Evaluating the model by looking at the cumulative gain curve\n",
    "gain_curve_test_x_lgbm = cumulative_gain(x_cate_test, \"pred_cate\", y=\"mort_28\", t=\"peep_regime\")\n",
    "gain_curve_train_x_lgbm = cumulative_gain(x_cate_train, \"pred_cate\", y=\"mort_28\", t=\"peep_regime\")\n",
    "plt.plot(gain_curve_test_x_lgbm, color=\"C0\", label=\"Test\")\n",
    "plt.plot(gain_curve_train_x_lgbm, color=\"C1\", label=\"Train\")\n",
    "plt.plot([0, 100], [0, elast(test, \"mort_28\", \"peep_regime\")], linestyle=\"--\", color=\"black\", label=\"Baseline\")\n",
    "plt.legend()\n",
    "plt.xlabel(\"% of Top Sensitivity\")\n",
    "plt.ylabel(\"Cumulative Gain\")\n",
    "plt.title(\"X-Learner, using LGBM\");"
   ],
   "id": "b3fa72dd8484f2e8",
   "execution_count": 33,
   "outputs": []
  },
  {
   "metadata": {},
   "cell_type": "markdown",
   "source": "## 2. Linear Regression ",
   "id": "c68d3453af531efe"
  },
  {
   "metadata": {
    "ExecuteTime": {
     "end_time": "2024-06-06T12:45:53.906171Z",
     "start_time": "2024-06-06T12:45:53.765542Z"
    }
   },
   "cell_type": "code",
   "source": [
    "from Simulation.X_learner import X_learner_linear\n",
    "from Simulation.T_learner import T_learner_linear\n",
    "from Simulation.S_learner import S_learner_linear\n",
    "\n",
    "# Get CATE estimates for S-, T-, and X-learner using Linear Regression\n",
    "s_cate_train, s_cate_test = S_learner_linear(train, test, X, T, y)\n",
    "t_cate_train, t_cate_test = T_learner_linear(train, test, X, T, y)\n",
    "x_cate_train, x_cate_test = X_learner_linear(train, test, X, T, y)"
   ],
   "id": "358d81bef79ff45d",
   "execution_count": 34,
   "outputs": []
  },
  {
   "metadata": {
    "ExecuteTime": {
     "end_time": "2024-06-06T12:45:54.457312Z",
     "start_time": "2024-06-06T12:45:54.101187Z"
    }
   },
   "cell_type": "code",
   "source": [
    "# S-Learner, Linear: Evaluating the model by looking at the cumulative gain curve\n",
    "gain_curve_test_s_linear = cumulative_gain(s_cate_test, \"pred_cate\", y=\"mort_28\", t=\"peep_regime\")\n",
    "gain_curve_train_s_linear = cumulative_gain(s_cate_train, \"pred_cate\", y=\"mort_28\", t=\"peep_regime\")\n",
    "plt.plot(gain_curve_test_s_linear, color=\"C0\", label=\"Test\")\n",
    "plt.plot(gain_curve_train_s_linear, color=\"C1\", label=\"Train\")\n",
    "plt.plot([0, 100], [0, elast(test, \"mort_28\", \"peep_regime\")], linestyle=\"--\", color=\"black\", label=\"Baseline\")\n",
    "plt.legend()\n",
    "plt.title(\"S-Learner, using Linear Regression\");"
   ],
   "id": "62bc774a02af396f",
   "execution_count": 35,
   "outputs": []
  },
  {
   "metadata": {
    "ExecuteTime": {
     "end_time": "2024-06-06T12:45:54.806767Z",
     "start_time": "2024-06-06T12:45:54.457312Z"
    }
   },
   "cell_type": "code",
   "source": [
    "# T-Learner, Linear: Evaluating the model by looking at the cumulative gain curve\n",
    "gain_curve_test_t_linear = cumulative_gain(t_cate_test, \"pred_cate\", y=\"mort_28\", t=\"peep_regime\")\n",
    "gain_curve_train_t_linear = cumulative_gain(t_cate_train, \"pred_cate\", y=\"mort_28\", t=\"peep_regime\")\n",
    "plt.plot(gain_curve_test_t_linear, color=\"C0\", label=\"Test\")\n",
    "plt.plot(gain_curve_train_t_linear, color=\"C1\", label=\"Train\")\n",
    "plt.plot([0, 100], [0, elast(test, \"mort_28\", \"peep_regime\")], linestyle=\"--\", color=\"black\", label=\"Baseline\")\n",
    "plt.legend()\n",
    "plt.title(\"T-Learner, using Linear Regression\");"
   ],
   "id": "4080f1f85bdd06ef",
   "execution_count": 36,
   "outputs": []
  },
  {
   "metadata": {
    "ExecuteTime": {
     "end_time": "2024-06-06T12:45:55.103681Z",
     "start_time": "2024-06-06T12:45:54.806767Z"
    }
   },
   "cell_type": "code",
   "source": [
    "# X-Learner, Linear: Evaluating the model by looking at the cumulative gain curve\n",
    "gain_curve_test_x_linear = cumulative_gain(x_cate_test, \"pred_cate\", y=\"mort_28\", t=\"peep_regime\")\n",
    "gain_curve_train_x_linear = cumulative_gain(x_cate_train, \"pred_cate\", y=\"mort_28\", t=\"peep_regime\")\n",
    "plt.plot(gain_curve_test_x_linear, color=\"C0\", label=\"Test\")\n",
    "plt.plot(gain_curve_train_x_linear, color=\"C1\", label=\"Train\")\n",
    "plt.plot([0, 100], [0, elast(test, \"mort_28\", \"peep_regime\")], linestyle=\"--\", color=\"black\", label=\"Baseline\")\n",
    "plt.legend()\n",
    "plt.title(\"X-Learner, using Linear Regression\");"
   ],
   "id": "b056b3cf87634041",
   "execution_count": 37,
   "outputs": []
  },
  {
   "metadata": {},
   "cell_type": "markdown",
   "source": "## 4. Random Forest",
   "id": "d0b602ef954cedbf"
  },
  {
   "metadata": {
    "ExecuteTime": {
     "end_time": "2024-06-06T12:46:02.794807Z",
     "start_time": "2024-06-06T12:45:56.228611Z"
    }
   },
   "cell_type": "code",
   "source": [
    "from Simulation.X_learner import X_learner_rf\n",
    "from Simulation.T_learner import T_learner_rf\n",
    "from Simulation.S_learner import S_learner_rf\n",
    "\n",
    "# Get CATE estimates for S-, T-, and X-learner using Random Forest\n",
    "s_cate_train, s_cate_test = S_learner_rf(train, test, X, T, y)\n",
    "t_cate_train, t_cate_test = T_learner_rf(train, test, X, T, y)\n",
    "x_cate_train, x_cate_test = X_learner_rf(train, test, X, T, y)"
   ],
   "id": "10a570b90f4c85b9",
   "execution_count": 38,
   "outputs": []
  },
  {
   "metadata": {
    "ExecuteTime": {
     "end_time": "2024-06-06T12:46:08.597544Z",
     "start_time": "2024-06-06T12:46:08.301059Z"
    }
   },
   "cell_type": "code",
   "source": [
    "# S-Learner, RF: Evaluating the model by looking at the cumulative gain curve\n",
    "gain_curve_test_s_rf = cumulative_gain(s_cate_test, \"pred_cate\", y=\"mort_28\", t=\"peep_regime\")\n",
    "gain_curve_train_s_rf = cumulative_gain(s_cate_train, \"pred_cate\", y=\"mort_28\", t=\"peep_regime\")\n",
    "plt.plot(gain_curve_test_s_rf, color=\"C0\", label=\"Test\")\n",
    "plt.plot(gain_curve_train_s_rf, color=\"C1\", label=\"Train\")\n",
    "plt.plot([0, 100], [0, elast(test, \"mort_28\", \"peep_regime\")], linestyle=\"--\", color=\"black\", label=\"Baseline\")\n",
    "plt.legend()\n",
    "plt.title(\"S-Learner, using RF\");"
   ],
   "id": "2f6e6bbc35a986e6",
   "execution_count": 39,
   "outputs": []
  },
  {
   "metadata": {
    "ExecuteTime": {
     "end_time": "2024-06-06T12:46:08.925665Z",
     "start_time": "2024-06-06T12:46:08.597544Z"
    }
   },
   "cell_type": "code",
   "source": [
    "# T-Learner, RF: Evaluating the model by looking at the cumulative gain curve\n",
    "gain_curve_test_t_rf = cumulative_gain(t_cate_test, \"pred_cate\", y=\"mort_28\", t=\"peep_regime\")\n",
    "gain_curve_train_t_rf = cumulative_gain(t_cate_train, \"pred_cate\", y=\"mort_28\", t=\"peep_regime\")\n",
    "plt.plot(gain_curve_test_t_rf, color=\"C0\", label=\"Test\")\n",
    "plt.plot(gain_curve_train_t_rf, color=\"C1\", label=\"Train\")\n",
    "plt.plot([0, 100], [0, elast(test, \"mort_28\", \"peep_regime\")], linestyle=\"--\", color=\"black\", label=\"Baseline\")\n",
    "plt.legend()\n",
    "plt.title(\"T-Learner, using RF\");"
   ],
   "id": "ef74b7184eddf3d4",
   "execution_count": 40,
   "outputs": []
  },
  {
   "metadata": {
    "ExecuteTime": {
     "end_time": "2024-06-06T12:46:13.142531Z",
     "start_time": "2024-06-06T12:46:12.841138Z"
    }
   },
   "cell_type": "code",
   "source": [
    "# X-Learner, RF: Evaluating the model by looking at the cumulative gain curve\n",
    "gain_curve_test_x_rf = cumulative_gain(x_cate_test, \"pred_cate\", y=\"mort_28\", t=\"peep_regime\")\n",
    "gain_curve_train_x_rf = cumulative_gain(x_cate_train, \"pred_cate\", y=\"mort_28\", t=\"peep_regime\")\n",
    "plt.plot(gain_curve_test_x_rf, color=\"C0\", label=\"Test\")\n",
    "plt.plot(gain_curve_train_x_rf, color=\"C1\", label=\"Train\")\n",
    "plt.plot([0, 100], [0, elast(test, \"mort_28\", \"peep_regime\")], linestyle=\"--\", color=\"black\", label=\"Baseline\")\n",
    "plt.legend()\n",
    "plt.title(\"X-Learner, using RF\");"
   ],
   "id": "1790e717c9b8efc9",
   "execution_count": 41,
   "outputs": []
  },
  {
   "metadata": {},
   "cell_type": "markdown",
   "source": "## 5. Support Vector Regressor",
   "id": "f0ec23d7701dacbf"
  },
  {
   "metadata": {
    "ExecuteTime": {
     "end_time": "2024-06-06T12:46:34.958577Z",
     "start_time": "2024-06-06T12:46:28.427726Z"
    }
   },
   "cell_type": "code",
   "source": [
    "from Simulation.X_learner import X_learner_svm\n",
    "from Simulation.T_learner import T_learner_svm\n",
    "from Simulation.S_learner import S_learner_svm\n",
    "\n",
    "# Get CATE estimates for S-, T-, and X-learner using Support Vector Regressor\n",
    "s_cate_train, s_cate_test = S_learner_svm(train, test, X, T, y)\n",
    "t_cate_train, t_cate_test = T_learner_svm(train, test, X, T, y)\n",
    "x_cate_train, x_cate_test = X_learner_svm(train, test, X, T, y)"
   ],
   "id": "978262ada14f8337",
   "execution_count": 42,
   "outputs": []
  },
  {
   "metadata": {
    "ExecuteTime": {
     "end_time": "2024-06-06T12:46:35.239803Z",
     "start_time": "2024-06-06T12:46:34.958577Z"
    }
   },
   "cell_type": "code",
   "source": [
    "# S-Learner, SVR: Evaluating the model by looking at the cumulative gain curve\n",
    "gain_curve_test_s_svr = cumulative_gain(s_cate_test, \"pred_cate\", y=\"mort_28\", t=\"peep_regime\")\n",
    "gain_curve_train_s_svr = cumulative_gain(s_cate_train, \"pred_cate\", y=\"mort_28\", t=\"peep_regime\")\n",
    "plt.plot(gain_curve_test_s_svr, color=\"C0\", label=\"Test\")\n",
    "plt.plot(gain_curve_train_s_svr, color=\"C1\", label=\"Train\")\n",
    "plt.plot([0, 100], [0, elast(test, \"mort_28\", \"peep_regime\")], linestyle=\"--\", color=\"black\", label=\"Baseline\")\n",
    "plt.legend()\n",
    "plt.title(\"S-Learner, using Support Vector Regression\");"
   ],
   "id": "c2da85ec3fbe7dd",
   "execution_count": 43,
   "outputs": []
  },
  {
   "metadata": {
    "ExecuteTime": {
     "end_time": "2024-06-06T12:46:35.538783Z",
     "start_time": "2024-06-06T12:46:35.239803Z"
    }
   },
   "cell_type": "code",
   "source": [
    "# T-Learner, SVR: Evaluating the model by looking at the cumulative gain curve\n",
    "gain_curve_test_t_svr = cumulative_gain(t_cate_test, \"pred_cate\", y=\"mort_28\", t=\"peep_regime\")\n",
    "gain_curve_train_t_svr = cumulative_gain(t_cate_train, \"pred_cate\", y=\"mort_28\", t=\"peep_regime\")\n",
    "plt.plot(gain_curve_test_t_svr, color=\"C0\", label=\"Test\")\n",
    "plt.plot(gain_curve_train_t_svr, color=\"C1\", label=\"Train\")\n",
    "plt.plot([0, 100], [0, elast(test, \"mort_28\", \"peep_regime\")], linestyle=\"--\", color=\"black\", label=\"Baseline\")\n",
    "plt.legend()\n",
    "plt.title(\"T-Learner, using Support Vector Regression\");"
   ],
   "id": "ea858b521f7e4127",
   "execution_count": 44,
   "outputs": []
  },
  {
   "metadata": {
    "ExecuteTime": {
     "end_time": "2024-06-06T12:46:35.853853Z",
     "start_time": "2024-06-06T12:46:35.538783Z"
    }
   },
   "cell_type": "code",
   "source": [
    "# X-Learner, SVR: Evaluating the model by looking at the cumulative gain curve\n",
    "gain_curve_test_x_svr = cumulative_gain(x_cate_test, \"pred_cate\", y=\"mort_28\", t=\"peep_regime\")\n",
    "gain_curve_train_x_svr = cumulative_gain(x_cate_train, \"pred_cate\", y=\"mort_28\", t=\"peep_regime\")\n",
    "plt.plot(gain_curve_test_x_svr, color=\"C0\", label=\"Test\")\n",
    "plt.plot(gain_curve_train_x_svr, color=\"C1\", label=\"Train\")\n",
    "plt.plot([0, 100], [0, elast(test, \"mort_28\", \"peep_regime\")], linestyle=\"--\", color=\"black\", label=\"Baseline\")\n",
    "plt.legend()\n",
    "plt.title(\"X-Learner, using Support Vector Regression\");"
   ],
   "id": "86532cd2609dd23a",
   "execution_count": 45,
   "outputs": []
  }
 ],
 "metadata": {
  "kernelspec": {
   "display_name": "Python 3",
   "language": "python",
   "name": "python3"
  },
  "language_info": {
   "codemirror_mode": {
    "name": "ipython",
    "version": 2
   },
   "file_extension": ".py",
   "mimetype": "text/x-python",
   "name": "python",
   "nbconvert_exporter": "python",
   "pygments_lexer": "ipython2",
   "version": "2.7.6"
  }
 },
 "nbformat": 4,
 "nbformat_minor": 5
}

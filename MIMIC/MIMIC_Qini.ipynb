{
 "cells": [
  {
   "cell_type": "code",
   "id": "initial_id",
   "metadata": {
    "collapsed": true,
    "ExecuteTime": {
     "end_time": "2024-06-10T13:22:07.014919Z",
     "start_time": "2024-06-10T13:22:05.865271Z"
    }
   },
   "source": [
    "import pandas as pd\n",
    "import numpy as np\n",
    "from sklearn.model_selection import train_test_split \n",
    "from sklearn.preprocessing import MinMaxScaler\n",
    "from sklift.metrics import uplift_at_k, uplift_auc_score, qini_auc_score, weighted_average_uplift"
   ],
   "execution_count": 1,
   "outputs": []
  },
  {
   "metadata": {
    "ExecuteTime": {
     "end_time": "2024-06-10T13:22:08.189847Z",
     "start_time": "2024-06-10T13:22:08.120091Z"
    }
   },
   "cell_type": "code",
   "source": [
    "# Get imputed data\n",
    "mimic_complete = pd.read_csv(\"./impute_mimic.csv\")\n",
    "mimic_complete.head(10)"
   ],
   "id": "2d5878ac5a3f648c",
   "execution_count": 2,
   "outputs": []
  },
  {
   "metadata": {
    "ExecuteTime": {
     "end_time": "2024-06-10T13:22:09.516530Z",
     "start_time": "2024-06-10T13:22:09.497333Z"
    }
   },
   "cell_type": "code",
   "source": [
    "# Create variables to store outcome Y, treatment T, confounders L, and features X\n",
    "y = \"mort_28\"\n",
    "T = \"peep_regime\"\n",
    "L = [\"age\", \"weight\", \"pf_ratio\", \"po2\", \"driving_pressure\", \"fio2\", \"hco3\", \"plateau_pressure\", \"respiratory_rate\"] \n",
    "X = [\"age\", \"sex\", \"weight\", \"height\", \"pf_ratio\", \"po2\", \"pco2\", \"ph\", \"driving_pressure\", \"lung_compliance\", \"map\", \"bilirubin\", \"creatinine\", \"platelets\", \"urea\", \"fio2\", \"hco3\", \"heart_rate\", \"minute_volume\", \"peep\", \"plateau_pressure\", \"respiratory_rate\", \"syst_blood_pressure\", \"diastolic_blood_pressure\"] "
   ],
   "id": "eaf01345684ffb39",
   "execution_count": 3,
   "outputs": []
  },
  {
   "metadata": {},
   "cell_type": "code",
   "execution_count": null,
   "source": "mimic_complete['mort_28'].replace([1,0], [0,1], inplace=True)",
   "id": "f6bf7fc1f735221a",
   "outputs": []
  },
  {
   "metadata": {},
   "cell_type": "markdown",
   "source": "### Evaluating CATE estimation LGBM ",
   "id": "71dda378c4cef1fb"
  },
  {
   "metadata": {
    "ExecuteTime": {
     "end_time": "2024-06-10T13:29:13.714535Z",
     "start_time": "2024-06-10T13:28:49.938514Z"
    }
   },
   "cell_type": "code",
   "source": [
    "from Simulation.X_learner_confounder import X_learner_lgbm\n",
    "from Simulation.T_learner import T_learner_lgbm\n",
    "from Simulation.S_learner import S_learner_lgbm\n",
    "\n",
    "# Get CATE estimates for S-, T-, and X-learner using LGBM\n",
    "s_cate_test_list = []\n",
    "t_cate_test_list = []\n",
    "x_cate_test_list = []\n",
    "x_cate_train_list = []\n",
    "\n",
    "for _ in range(100): \n",
    "    # Train and test set\n",
    "    train, test = train_test_split(mimic_complete, test_size=0.3, random_state=None)\n",
    "    \n",
    "    # Normalizing Data\n",
    "    normalizer = MinMaxScaler()\n",
    "    train[X] = normalizer.fit_transform(train[X])\n",
    "    test[X] = normalizer.fit_transform(test[X])\n",
    "    \n",
    "    # Get CATE estimates\n",
    "    s_cate_train, s_cate_test = S_learner_lgbm(train, test, L, T, y)\n",
    "    t_cate_train, t_cate_test = T_learner_lgbm(train, test, L, T, y)\n",
    "    x_cate_train, x_cate_test = X_learner_lgbm(train, test, L, X, T, y)\n",
    "    s_cate_test_list.append(s_cate_test['pred_cate'].tolist())\n",
    "    t_cate_test_list.append(t_cate_test['pred_cate'].tolist())\n",
    "    x_cate_test_list.append(x_cate_test['pred_cate'].tolist())\n",
    "    x_cate_train_list.append(x_cate_train['pred_cate'].tolist())\n",
    "    \n",
    "s_cate_test = np.mean(s_cate_test_list, axis=0)\n",
    "t_cate_test = np.mean(t_cate_test_list, axis=0)\n",
    "x_cate_test = np.mean(x_cate_test_list, axis=0)\n",
    "x_cate_train = np.mean(x_cate_train_list, axis=0)"
   ],
   "id": "271301534aa83396",
   "execution_count": 7,
   "outputs": []
  },
  {
   "metadata": {
    "ExecuteTime": {
     "end_time": "2024-06-10T13:29:19.629569Z",
     "start_time": "2024-06-10T13:29:19.617775Z"
    }
   },
   "cell_type": "code",
   "source": [
    "# Preparing data for visualization\n",
    "y_test = test[y].tolist()\n",
    "t_test = test[T].tolist()\n",
    "y_train = train[y].tolist()\n",
    "t_train = train[T].tolist()"
   ],
   "id": "b6bd865df76d58aa",
   "execution_count": 8,
   "outputs": []
  },
  {
   "metadata": {
    "ExecuteTime": {
     "end_time": "2024-06-10T13:29:21.270196Z",
     "start_time": "2024-06-10T13:29:20.337560Z"
    }
   },
   "cell_type": "code",
   "source": [
    "from sklift.viz import plot_qini_curve\n",
    "import matplotlib.pyplot as plt\n",
    "\n",
    "fig, ax = plt.subplots(1, 1)\n",
    "ax.set_title('Qini curves LGBM')\n",
    "\n",
    "plot_qini_curve(\n",
    "    y_train, x_cate_train, t_train,\n",
    "    perfect=True, name='Xlearner train', ax=ax\n",
    ");\n",
    "\n",
    "plot_qini_curve(\n",
    "    y_test, x_cate_test, t_test,\n",
    "    perfect=True, name='Xlearner test', ax=ax\n",
    ");"
   ],
   "id": "5331e51eeda1b1df",
   "execution_count": 9,
   "outputs": []
  },
  {
   "metadata": {
    "ExecuteTime": {
     "end_time": "2024-06-10T13:29:22.426863Z",
     "start_time": "2024-06-10T13:29:22.311297Z"
    }
   },
   "cell_type": "code",
   "source": [
    "fig, ax = plt.subplots(1, 1)\n",
    "ax.set_title('Qini curves LGBM')\n",
    "\n",
    "plot_qini_curve(\n",
    "    y_test, s_cate_test, t_test,\n",
    "    perfect=True, name='Slearner', ax=ax\n",
    ");\n",
    "plot_qini_curve(\n",
    "    y_test, t_cate_test, t_test,\n",
    "    perfect=True, name='Tlearner', ax=ax\n",
    ");\n",
    "\n",
    "plot_qini_curve(\n",
    "    y_test, x_cate_test, t_test,\n",
    "    perfect=True, name='Xlearner', ax=ax\n",
    ");"
   ],
   "id": "395d98d78afb1497",
   "execution_count": 10,
   "outputs": []
  },
  {
   "metadata": {},
   "cell_type": "markdown",
   "source": "### Linear Regression",
   "id": "bc525466bd2d8807"
  },
  {
   "metadata": {
    "ExecuteTime": {
     "end_time": "2024-06-10T12:50:22.591033Z",
     "start_time": "2024-06-10T12:50:10.281372Z"
    }
   },
   "cell_type": "code",
   "source": [
    "from Simulation.X_learner_confounder import X_learner_linear\n",
    "from Simulation.T_learner import T_learner_linear\n",
    "from Simulation.S_learner import S_learner_linear\n",
    "\n",
    "# Get CATE estimates for S-, T-, and X-learner using Linear Regression\n",
    "s_cate_test_list = []\n",
    "t_cate_test_list = []\n",
    "x_cate_test_list = []\n",
    "\n",
    "for _ in range(100): \n",
    "    # Train and test set\n",
    "    train, test = train_test_split(mimic_complete, test_size=0.3, random_state=None)\n",
    "    \n",
    "    # Normalizing Data\n",
    "    normalizer = MinMaxScaler()\n",
    "    train[X] = normalizer.fit_transform(train[X])\n",
    "    test[X] = normalizer.fit_transform(test[X])\n",
    "    \n",
    "    # Get CATE estimates\n",
    "    s_cate_train, s_cate_test = S_learner_linear(train, test, L, T, y)\n",
    "    t_cate_train, t_cate_test = T_learner_linear(train, test, L, T, y)\n",
    "    x_cate_train, x_cate_test = X_learner_linear(train, test, L, X, T, y)\n",
    "    s_cate_test_list.append(s_cate_test['pred_cate'].tolist())\n",
    "    t_cate_test_list.append(t_cate_test['pred_cate'].tolist())\n",
    "    x_cate_test_list.append(x_cate_test['pred_cate'].tolist())\n",
    "    \n",
    "s_cate_test = np.mean(s_cate_test_list, axis=0)\n",
    "t_cate_test = np.mean(t_cate_test_list, axis=0)\n",
    "x_cate_test = np.mean(x_cate_test_list, axis=0)"
   ],
   "id": "c2022e1bf769c094",
   "execution_count": 22,
   "outputs": []
  },
  {
   "metadata": {
    "ExecuteTime": {
     "end_time": "2024-06-10T12:50:22.796299Z",
     "start_time": "2024-06-10T12:50:22.593Z"
    }
   },
   "cell_type": "code",
   "source": [
    "from sklift.viz import plot_qini_curve\n",
    "import matplotlib.pyplot as plt\n",
    "\n",
    "fig, ax = plt.subplots(1, 1)\n",
    "ax.set_title('Qini curves Linear Regression')\n",
    "\n",
    "plot_qini_curve(\n",
    "    y_test, s_cate_test, t_test,\n",
    "    perfect=True, name='Slearner', ax=ax\n",
    ");\n",
    "plot_qini_curve(\n",
    "    y_test, t_cate_test, t_test,\n",
    "    perfect=True, name='Tlearner', ax=ax\n",
    ");\n",
    "plot_qini_curve(\n",
    "    y_test, x_cate_test, t_test,\n",
    "    perfect=True, name='Xlearner', ax=ax\n",
    ");"
   ],
   "id": "1b891d83c8e45bcb",
   "execution_count": 23,
   "outputs": []
  },
  {
   "metadata": {},
   "cell_type": "markdown",
   "source": "### Random Forest",
   "id": "4ea593861e98fc42"
  },
  {
   "metadata": {
    "ExecuteTime": {
     "end_time": "2024-06-10T12:43:33.192571Z",
     "start_time": "2024-06-10T12:41:40.427310Z"
    }
   },
   "cell_type": "code",
   "source": [
    "from Simulation.X_learner_confounder import X_learner_rf\n",
    "from Simulation.T_learner import T_learner_rf\n",
    "from Simulation.S_learner import S_learner_rf\n",
    "\n",
    "\n",
    "# Get CATE estimates for S-, T-, and X-learner using Random Forest\n",
    "s_cate_test_list = []\n",
    "t_cate_test_list = []\n",
    "x_cate_test_list = []\n",
    "\n",
    "for _ in range(20): \n",
    "    # Train and test set\n",
    "    train, test = train_test_split(mimic_complete, test_size=0.3, random_state=None)\n",
    "    \n",
    "    # Normalizing Data\n",
    "    normalizer = MinMaxScaler()\n",
    "    train[X] = normalizer.fit_transform(train[X])\n",
    "    test[X] = normalizer.fit_transform(test[X])\n",
    "    \n",
    "    # Get CATE estimates\n",
    "    s_cate_train, s_cate_test = S_learner_rf(train, test, X, T, y)\n",
    "    t_cate_train, t_cate_test = T_learner_rf(train, test, X, T, y)\n",
    "    x_cate_train, x_cate_test = X_learner_rf(train, test, L, X, T, y)\n",
    "    s_cate_test_list.append(s_cate_test['pred_cate'].tolist())\n",
    "    t_cate_test_list.append(t_cate_test['pred_cate'].tolist())\n",
    "    x_cate_test_list.append(x_cate_test['pred_cate'].tolist())\n",
    "    \n",
    "s_cate_test = np.mean(s_cate_test_list, axis=0)\n",
    "t_cate_test = np.mean(t_cate_test_list, axis=0)\n",
    "x_cate_test = np.mean(x_cate_test_list, axis=0)"
   ],
   "id": "ec5ebf1b0c79fe86",
   "execution_count": 10,
   "outputs": []
  },
  {
   "metadata": {
    "ExecuteTime": {
     "end_time": "2024-06-10T12:43:33.350384Z",
     "start_time": "2024-06-10T12:43:33.193406Z"
    }
   },
   "cell_type": "code",
   "source": [
    "from sklift.viz import plot_qini_curve\n",
    "import matplotlib.pyplot as plt\n",
    "\n",
    "fig, ax = plt.subplots(1, 1)\n",
    "ax.set_title('Qini curves RF')\n",
    "\n",
    "plot_qini_curve(\n",
    "    y_test, s_cate_test, t_test,\n",
    "    perfect=True, name='Slearner', ax=ax\n",
    ");\n",
    "plot_qini_curve(\n",
    "    y_test, t_cate_test, t_test,\n",
    "    perfect=True, name='Tlearner', ax=ax\n",
    ");\n",
    "plot_qini_curve(\n",
    "    y_test, x_cate_test, t_test,\n",
    "    perfect=True, name='Xlearner', ax=ax\n",
    ");"
   ],
   "id": "f25def4f32adf446",
   "execution_count": 11,
   "outputs": []
  },
  {
   "metadata": {},
   "cell_type": "markdown",
   "source": "### Support Vector Regression   ",
   "id": "9314f40943695038"
  },
  {
   "metadata": {
    "ExecuteTime": {
     "end_time": "2024-06-10T12:45:03.857713Z",
     "start_time": "2024-06-10T12:43:33.351367Z"
    }
   },
   "cell_type": "code",
   "source": [
    "from Simulation.X_learner_confounder import X_learner_svm\n",
    "from Simulation.T_learner import T_learner_svm\n",
    "from Simulation.S_learner import S_learner_svm\n",
    "\n",
    "# Get CATE estimates for S-, T-, and X-learner using Random Forest\n",
    "s_cate_test_list = []\n",
    "t_cate_test_list = []\n",
    "x_cate_test_list = []\n",
    "\n",
    "for _ in range(20): \n",
    "    # Train and test set\n",
    "    train, test = train_test_split(mimic_complete, test_size=0.3, random_state=None)\n",
    "    \n",
    "    # Normalizing Data\n",
    "    normalizer = MinMaxScaler()\n",
    "    train[X] = normalizer.fit_transform(train[X])\n",
    "    test[X] = normalizer.fit_transform(test[X])\n",
    "    \n",
    "    # Get CATE estimates\n",
    "    s_cate_train, s_cate_test = S_learner_svm(train, test, X, T, y)\n",
    "    t_cate_train, t_cate_test = T_learner_svm(train, test, X, T, y)\n",
    "    x_cate_train, x_cate_test = X_learner_svm(train, test, L, X, T, y)\n",
    "    s_cate_test_list.append(s_cate_test['pred_cate'].tolist())\n",
    "    t_cate_test_list.append(t_cate_test['pred_cate'].tolist())\n",
    "    x_cate_test_list.append(x_cate_test['pred_cate'].tolist())\n",
    "    \n",
    "s_cate_test = np.mean(s_cate_test_list, axis=0)\n",
    "t_cate_test = np.mean(t_cate_test_list, axis=0)\n",
    "x_cate_test = np.mean(x_cate_test_list, axis=0)"
   ],
   "id": "fced4804778a405c",
   "execution_count": 12,
   "outputs": []
  },
  {
   "metadata": {
    "ExecuteTime": {
     "end_time": "2024-06-10T12:45:04.033066Z",
     "start_time": "2024-06-10T12:45:03.859500Z"
    }
   },
   "cell_type": "code",
   "source": [
    "from sklift.viz import plot_qini_curve\n",
    "import matplotlib.pyplot as plt\n",
    "\n",
    "fig, ax = plt.subplots(1, 1)\n",
    "ax.set_title('Qini curves SVR')\n",
    "\n",
    "plot_qini_curve(\n",
    "    y_test, s_cate_test, t_test,\n",
    "    perfect=True, name='Slearner', ax=ax\n",
    ");\n",
    "plot_qini_curve(\n",
    "    y_test, t_cate_test, t_test,\n",
    "    perfect=True, name='Tlearner', ax=ax\n",
    ");\n",
    "plot_qini_curve(\n",
    "    y_test, x_cate_test, t_test,\n",
    "    perfect=True, name='Xlearner', ax=ax\n",
    ");"
   ],
   "id": "bd7128094ec04e3c",
   "execution_count": 13,
   "outputs": []
  }
 ],
 "metadata": {
  "kernelspec": {
   "display_name": "Python 3",
   "language": "python",
   "name": "python3"
  },
  "language_info": {
   "codemirror_mode": {
    "name": "ipython",
    "version": 2
   },
   "file_extension": ".py",
   "mimetype": "text/x-python",
   "name": "python",
   "nbconvert_exporter": "python",
   "pygments_lexer": "ipython2",
   "version": "2.7.6"
  }
 },
 "nbformat": 4,
 "nbformat_minor": 5
}

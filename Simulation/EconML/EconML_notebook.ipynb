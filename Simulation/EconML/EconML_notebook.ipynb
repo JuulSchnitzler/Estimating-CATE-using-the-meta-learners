{
 "cells": [
  {
   "cell_type": "code",
   "id": "initial_id",
   "metadata": {
    "collapsed": true,
    "ExecuteTime": {
     "end_time": "2024-05-22T08:19:12.977190Z",
     "start_time": "2024-05-22T08:19:12.165887Z"
    }
   },
   "source": [
    "import numpy as np\n",
    "import warnings\n",
    "from matplotlib import pyplot as plt\n",
    "warnings.simplefilter(action='ignore', category=FutureWarning)"
   ],
   "execution_count": 1,
   "outputs": []
  },
  {
   "metadata": {
    "ExecuteTime": {
     "end_time": "2024-05-22T08:19:12.993134Z",
     "start_time": "2024-05-22T08:19:12.981144Z"
    }
   },
   "cell_type": "code",
   "source": [
    "# Simulation 1: The unbalanced case with a simple CATE\n",
    "N = [300, 1000, 3000, 6000, 10000]\n",
    "num_experiments = 10\n",
    "\n",
    "# # Simulation setup\n",
    "e = lambda x: 0.1\n",
    "d = 20\n",
    "beta = np.random.uniform(low=-5, high=5, size=d)\n",
    "mu0 = lambda x: np.dot(x, beta) + 5 * (x[0] > 0.5)\n",
    "mu1 = lambda x: mu0(x) + 8 * (x[1] > 0.1)"
   ],
   "id": "bb5ad0000ce423c2",
   "execution_count": 2,
   "outputs": []
  },
  {
   "metadata": {
    "ExecuteTime": {
     "end_time": "2024-05-22T08:21:17.025697Z",
     "start_time": "2024-05-22T08:19:12.995100Z"
    }
   },
   "cell_type": "code",
   "source": [
    "from Simulation.Perform_experiments_econML import iterate_experiments_econ\n",
    "\n",
    "# LGBM Regressor as model\n",
    "model = \"LGBM\"\n",
    "x_mse_total, x_mse_total_econ = iterate_experiments_econ(N, num_experiments, e, d, mu0, mu1, model)\n",
    "x_mse_lgbm = np.mean(x_mse_total, axis=0)\n",
    "x_mse_lgbm_econ = np.mean(x_mse_total_econ, axis=0)"
   ],
   "id": "c2ea76492cd5f50e",
   "execution_count": 3,
   "outputs": []
  },
  {
   "metadata": {
    "ExecuteTime": {
     "end_time": "2024-05-22T08:21:17.232696Z",
     "start_time": "2024-05-22T08:21:17.027696Z"
    }
   },
   "cell_type": "code",
   "source": [
    "# Plotting the average MSE for different num of samples\n",
    "plt.plot(N, x_mse_lgbm, marker='o', label='X-learner')\n",
    "plt.plot(N, x_mse_lgbm_econ, marker='o', label='X-learner EconML')\n",
    "plt.xlabel('Number of samples')\n",
    "plt.ylabel('MSE')\n",
    "plt.title('Simulation 1: LGBM Regressor, comparing custom XLearner with EconML XLearner')\n",
    "plt.legend()\n",
    "plt.show()"
   ],
   "id": "be774dda560b01be",
   "execution_count": 4,
   "outputs": []
  },
  {
   "metadata": {
    "ExecuteTime": {
     "end_time": "2024-05-22T08:21:17.248700Z",
     "start_time": "2024-05-22T08:21:17.233695Z"
    }
   },
   "cell_type": "code",
   "source": [
    "print(\"LGBM:\")\n",
    "print(\"X-learner: \")\n",
    "print(x_mse_lgbm)\n",
    "print(\"X-learner econML:\")\n",
    "print(x_mse_lgbm_econ)"
   ],
   "id": "b8cb58a64a2cc3f8",
   "execution_count": 5,
   "outputs": []
  },
  {
   "metadata": {
    "ExecuteTime": {
     "end_time": "2024-05-22T08:26:09.472014Z",
     "start_time": "2024-05-22T08:21:17.253704Z"
    }
   },
   "cell_type": "code",
   "source": [
    "from Simulation.Perform_experiments_econML import iterate_experiments_econ\n",
    "\n",
    "# GradientBoostingRegressor as model\n",
    "model = \"GradientBoostingRegressor\"\n",
    "x_mse_total, x_mse_total_econ = iterate_experiments_econ(N, num_experiments, e, d, mu0, mu1, model)\n",
    "x_mse_gbr = np.mean(x_mse_total, axis=0)\n",
    "x_mse_gbr_econ = np.mean(x_mse_total_econ, axis=0)"
   ],
   "id": "3b5ab144b96f8926",
   "execution_count": 6,
   "outputs": []
  },
  {
   "metadata": {
    "ExecuteTime": {
     "end_time": "2024-05-22T08:26:09.598835Z",
     "start_time": "2024-05-22T08:26:09.473805Z"
    }
   },
   "cell_type": "code",
   "source": [
    "# Plotting the average MSE for different num of samples\n",
    "plt.plot(N, x_mse_gbr, marker='o', label='X-learner')\n",
    "plt.plot(N, x_mse_gbr_econ, marker='o', label='X-learner EconML')\n",
    "plt.xlabel('Number of samples')\n",
    "plt.ylabel('MSE')\n",
    "plt.title('Simulation 1: Gradient Boosting Regressor, comparing custom XLearner with EconML XLearner')\n",
    "plt.legend()\n",
    "plt.show()"
   ],
   "id": "4d539e2d85c68c55",
   "execution_count": 7,
   "outputs": []
  },
  {
   "metadata": {
    "ExecuteTime": {
     "end_time": "2024-05-22T08:26:45.962887Z",
     "start_time": "2024-05-22T08:26:45.939890Z"
    }
   },
   "cell_type": "code",
   "source": [
    "print(\"Gradient Boosting Regressor:\")\n",
    "print(\"X-learner: \")\n",
    "print(x_mse_gbr)\n",
    "print(\"X-learner econML:\")\n",
    "print(x_mse_gbr_econ)"
   ],
   "id": "37e3c581ac202d8d",
   "execution_count": 9,
   "outputs": []
  }
 ],
 "metadata": {
  "kernelspec": {
   "display_name": "Python 3",
   "language": "python",
   "name": "python3"
  },
  "language_info": {
   "codemirror_mode": {
    "name": "ipython",
    "version": 2
   },
   "file_extension": ".py",
   "mimetype": "text/x-python",
   "name": "python",
   "nbconvert_exporter": "python",
   "pygments_lexer": "ipython2",
   "version": "2.7.6"
  }
 },
 "nbformat": 4,
 "nbformat_minor": 5
}

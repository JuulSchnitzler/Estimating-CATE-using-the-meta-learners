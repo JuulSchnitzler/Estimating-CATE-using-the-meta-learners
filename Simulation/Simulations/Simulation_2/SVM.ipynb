{
 "cells": [
  {
   "cell_type": "code",
   "id": "initial_id",
   "metadata": {
    "collapsed": true,
    "ExecuteTime": {
     "end_time": "2024-05-21T14:39:17.891771Z",
     "start_time": "2024-05-21T14:39:17.073993Z"
    }
   },
   "source": [
    "import numpy as np\n",
    "import warnings\n",
    "from matplotlib import pyplot as plt\n",
    "warnings.simplefilter(action='ignore', category=FutureWarning)"
   ],
   "execution_count": 1,
   "outputs": []
  },
  {
   "metadata": {
    "ExecuteTime": {
     "end_time": "2024-05-21T14:39:17.906894Z",
     "start_time": "2024-05-21T14:39:17.895761Z"
    }
   },
   "cell_type": "code",
   "source": [
    "# Simulation 2: Complex linear\n",
    "N = [300, 1000, 3000, 6000, 10000]\n",
    "num_experiments = 10\n",
    "\n",
    "# Simulation 2 setup\n",
    "e = lambda x: 0.5\n",
    "d = 20\n",
    "beta_0 = np.random.uniform(low=1, high=30, size=d)\n",
    "beta_1 = np.random.uniform(low=1, high=30, size=d)\n",
    "mu0 = lambda x: np.dot(x, beta_0) \n",
    "mu1 = lambda x: np.dot(x, beta_1) "
   ],
   "id": "8b69fd37e3fb009f",
   "execution_count": 2,
   "outputs": []
  },
  {
   "metadata": {
    "ExecuteTime": {
     "end_time": "2024-05-21T14:49:48.360388Z",
     "start_time": "2024-05-21T14:39:17.908904Z"
    }
   },
   "cell_type": "code",
   "source": [
    "from Simulation.Perform_experiments import (iterate_experiments)\n",
    "\n",
    "# Support Vector Regressor as model\n",
    "model = \"SVM\"\n",
    "s_mse_total, t_mse_total, x_mse_total = iterate_experiments(N, num_experiments, e, d, mu0, mu1, model)\n",
    "s_mse_svm = np.mean(s_mse_total, axis=0)\n",
    "t_mse_svm = np.mean(t_mse_total, axis=0)\n",
    "x_mse_svm = np.mean(x_mse_total, axis=0)"
   ],
   "id": "63ac61999279cb6b",
   "execution_count": 3,
   "outputs": []
  },
  {
   "metadata": {
    "ExecuteTime": {
     "end_time": "2024-05-21T14:49:48.547544Z",
     "start_time": "2024-05-21T14:49:48.360895Z"
    }
   },
   "cell_type": "code",
   "source": [
    "# Plotting the average MSE for different num of samples\n",
    "plt.plot(N, s_mse_svm, marker='o', label='S-learner')\n",
    "plt.plot(N, t_mse_svm, marker='o', label='T-learner')\n",
    "plt.plot(N, x_mse_svm, marker='o', label='X-learner')\n",
    "plt.xlabel('Number of samples')\n",
    "plt.ylabel('MSE')\n",
    "plt.title('Simulation 2: Support Vector Regressor')\n",
    "plt.legend()\n",
    "plt.show()"
   ],
   "id": "cae234d01bdc429e",
   "execution_count": 4,
   "outputs": []
  },
  {
   "metadata": {
    "ExecuteTime": {
     "end_time": "2024-05-21T14:49:48.563544Z",
     "start_time": "2024-05-21T14:49:48.549546Z"
    }
   },
   "cell_type": "code",
   "source": [
    "print(\"SVM\")\n",
    "print(\"S-learner: \")\n",
    "print(s_mse_svm)\n",
    "print(\"T-learner: \")\n",
    "print(t_mse_svm)\n",
    "print(\"X-learner: \")\n",
    "print(x_mse_svm)"
   ],
   "id": "2f4e7e45c0d002cd",
   "execution_count": 5,
   "outputs": []
  }
 ],
 "metadata": {
  "kernelspec": {
   "display_name": "Python 3",
   "language": "python",
   "name": "python3"
  },
  "language_info": {
   "codemirror_mode": {
    "name": "ipython",
    "version": 2
   },
   "file_extension": ".py",
   "mimetype": "text/x-python",
   "name": "python",
   "nbconvert_exporter": "python",
   "pygments_lexer": "ipython2",
   "version": "2.7.6"
  }
 },
 "nbformat": 4,
 "nbformat_minor": 5
}

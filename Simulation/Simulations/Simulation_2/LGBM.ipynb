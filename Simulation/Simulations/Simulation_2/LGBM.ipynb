{
 "cells": [
  {
   "metadata": {
    "ExecuteTime": {
     "end_time": "2024-05-22T08:57:37.700436Z",
     "start_time": "2024-05-22T08:57:36.960708Z"
    }
   },
   "cell_type": "code",
   "source": [
    "import numpy as np\n",
    "import warnings\n",
    "from matplotlib import pyplot as plt\n",
    "warnings.simplefilter(action='ignore', category=FutureWarning)"
   ],
   "id": "5c6d96659b98e150",
   "execution_count": 1,
   "outputs": []
  },
  {
   "metadata": {
    "ExecuteTime": {
     "end_time": "2024-05-22T08:57:37.716292Z",
     "start_time": "2024-05-22T08:57:37.705275Z"
    }
   },
   "cell_type": "code",
   "source": [
    "# Simulation 2: Complex linear\n",
    "N = [300, 1000, 3000, 6000, 10000]\n",
    "num_experiments = 10\n",
    "\n",
    "# Simulation 2 setup\n",
    "e = lambda x: 0.5\n",
    "d = 20\n",
    "beta_0 = np.random.uniform(low=1, high=30, size=d)\n",
    "beta_1 = np.random.uniform(low=1, high=30, size=d)\n",
    "mu0 = lambda x: np.dot(x, beta_0) \n",
    "mu1 = lambda x: np.dot(x, beta_1) "
   ],
   "id": "c7e7b91ab92bb047",
   "execution_count": 2,
   "outputs": []
  },
  {
   "metadata": {
    "ExecuteTime": {
     "end_time": "2024-05-22T09:00:26.488119Z",
     "start_time": "2024-05-22T08:57:37.718261Z"
    }
   },
   "cell_type": "code",
   "source": [
    "from Simulation.Perform_experiments import (iterate_experiments)\n",
    "\n",
    "# LGBM Regressor as model\n",
    "model = \"LGBM\"\n",
    "s_mse_total, t_mse_total, x_mse_total = iterate_experiments(N, num_experiments, e, d, mu0, mu1, model)\n",
    "s_mse_lgbm = np.mean(s_mse_total, axis=0)\n",
    "t_mse_lgbm = np.mean(t_mse_total, axis=0)\n",
    "x_mse_lgbm = np.mean(x_mse_total, axis=0)"
   ],
   "id": "initial_id",
   "execution_count": 3,
   "outputs": []
  },
  {
   "metadata": {
    "ExecuteTime": {
     "end_time": "2024-05-22T09:00:26.769738Z",
     "start_time": "2024-05-22T09:00:26.489115Z"
    }
   },
   "cell_type": "code",
   "source": [
    "# Plotting the average MSE for different num of samples\n",
    "plt.plot(N, s_mse_lgbm, marker='o', label='S-learner')\n",
    "plt.plot(N, t_mse_lgbm, marker='o', label='T-learner')\n",
    "plt.plot(N, x_mse_lgbm, marker='o', label='X-learner')\n",
    "plt.xlabel('Number of samples')\n",
    "plt.ylabel('MSE')\n",
    "plt.title('Simulation 2: LGBM Regressor')\n",
    "plt.legend()\n",
    "plt.show()"
   ],
   "id": "a6b224c5b5433766",
   "execution_count": 4,
   "outputs": []
  },
  {
   "metadata": {
    "ExecuteTime": {
     "end_time": "2024-05-22T09:00:26.785824Z",
     "start_time": "2024-05-22T09:00:26.772735Z"
    }
   },
   "cell_type": "code",
   "source": [
    "print(\"LGBM:\")\n",
    "print(\"S-learner: \")\n",
    "print(s_mse_lgbm)\n",
    "print(\"T-learner: \")\n",
    "print(t_mse_lgbm)\n",
    "print(\"X-learner: \")\n",
    "print(x_mse_lgbm)"
   ],
   "id": "47b6642872291ad6",
   "execution_count": 5,
   "outputs": []
  }
 ],
 "metadata": {
  "kernelspec": {
   "display_name": "Python 3",
   "language": "python",
   "name": "python3"
  },
  "language_info": {
   "codemirror_mode": {
    "name": "ipython",
    "version": 2
   },
   "file_extension": ".py",
   "mimetype": "text/x-python",
   "name": "python",
   "nbconvert_exporter": "python",
   "pygments_lexer": "ipython2",
   "version": "2.7.6"
  }
 },
 "nbformat": 4,
 "nbformat_minor": 5
}

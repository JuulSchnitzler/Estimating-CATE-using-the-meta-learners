{
 "cells": [
  {
   "cell_type": "code",
   "id": "initial_id",
   "metadata": {
    "collapsed": true,
    "ExecuteTime": {
     "end_time": "2024-05-21T12:26:51.446221Z",
     "start_time": "2024-05-21T12:26:50.636280Z"
    }
   },
   "source": [
    "import numpy as np\n",
    "import warnings\n",
    "from matplotlib import pyplot as plt\n",
    "warnings.simplefilter(action='ignore', category=FutureWarning)"
   ],
   "execution_count": 1,
   "outputs": []
  },
  {
   "metadata": {
    "ExecuteTime": {
     "end_time": "2024-05-21T12:26:51.462257Z",
     "start_time": "2024-05-21T12:26:51.448224Z"
    }
   },
   "cell_type": "code",
   "source": [
    "# Simulation 2: Complex linear\n",
    "N = [300, 1000, 3000, 6000, 10000]\n",
    "num_experiments = 6\n",
    "\n",
    "# Simulation 2 setup\n",
    "e = lambda x: 0.5\n",
    "d = 20\n",
    "beta_0 = np.random.uniform(low=1, high=30, size=d)\n",
    "beta_1 = np.random.uniform(low=1, high=30, size=d)\n",
    "mu0 = lambda x: np.dot(x, beta_0) \n",
    "mu1 = lambda x: np.dot(x, beta_1) "
   ],
   "id": "b50d8954ab033c7e",
   "execution_count": 2,
   "outputs": []
  },
  {
   "metadata": {
    "ExecuteTime": {
     "end_time": "2024-05-21T12:29:59.199467Z",
     "start_time": "2024-05-21T12:26:51.464222Z"
    }
   },
   "cell_type": "code",
   "source": [
    "from Simulation.Perform_experiments import (iterate_experiments)\n",
    "\n",
    "# Random Forest as model\n",
    "model = \"RF\"\n",
    "s_mse_total, t_mse_total, x_mse_total = iterate_experiments(N, num_experiments, e, d, mu0, mu1, model)\n",
    "s_mse_rf = np.mean(s_mse_total, axis=0)\n",
    "t_mse_rf = np.mean(t_mse_total, axis=0)\n",
    "x_mse_rf = np.mean(x_mse_total, axis=0)"
   ],
   "id": "3aaf73366dd0b7ef",
   "execution_count": 3,
   "outputs": []
  },
  {
   "metadata": {
    "ExecuteTime": {
     "end_time": "2024-05-21T12:29:59.387126Z",
     "start_time": "2024-05-21T12:29:59.201263Z"
    }
   },
   "cell_type": "code",
   "source": [
    "# Plotting the average MSE for different num of samples\n",
    "plt.plot(N, s_mse_rf, marker='o', label='S-learner')\n",
    "plt.plot(N, t_mse_rf, marker='o', label='T-learner')\n",
    "plt.plot(N, x_mse_rf, marker='o', label='X-learner')\n",
    "plt.xlabel('Number of samples')\n",
    "plt.ylabel('MSE')\n",
    "plt.title('Simulation 2: Random Forest')\n",
    "plt.legend()\n",
    "plt.show()"
   ],
   "id": "9e8c7d30a371ddce",
   "execution_count": 4,
   "outputs": []
  },
  {
   "metadata": {
    "ExecuteTime": {
     "end_time": "2024-05-21T12:29:59.402446Z",
     "start_time": "2024-05-21T12:29:59.388403Z"
    }
   },
   "cell_type": "code",
   "source": [
    "print(\"RANDOM FOREST\")\n",
    "print(\"S-learner: \")\n",
    "print(s_mse_rf)\n",
    "print(\"T-learner: \")\n",
    "print(t_mse_rf)\n",
    "print(\"X-learner: \")\n",
    "print(x_mse_rf)"
   ],
   "id": "b1f9d75533c75ef1",
   "execution_count": 5,
   "outputs": []
  }
 ],
 "metadata": {
  "kernelspec": {
   "display_name": "Python 3",
   "language": "python",
   "name": "python3"
  },
  "language_info": {
   "codemirror_mode": {
    "name": "ipython",
    "version": 2
   },
   "file_extension": ".py",
   "mimetype": "text/x-python",
   "name": "python",
   "nbconvert_exporter": "python",
   "pygments_lexer": "ipython2",
   "version": "2.7.6"
  }
 },
 "nbformat": 4,
 "nbformat_minor": 5
}

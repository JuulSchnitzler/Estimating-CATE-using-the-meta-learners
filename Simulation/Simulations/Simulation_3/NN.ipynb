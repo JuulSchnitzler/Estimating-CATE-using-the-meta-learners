{
 "cells": [
  {
   "cell_type": "code",
   "id": "initial_id",
   "metadata": {
    "collapsed": true,
    "ExecuteTime": {
     "end_time": "2024-05-22T15:18:51.596319Z",
     "start_time": "2024-05-22T15:18:51.448250Z"
    }
   },
   "source": [
    "import numpy as np\n",
    "import warnings\n",
    "from matplotlib import pyplot as plt\n",
    "warnings.simplefilter(action='ignore', category=FutureWarning)"
   ],
   "execution_count": 4,
   "outputs": []
  },
  {
   "metadata": {
    "ExecuteTime": {
     "end_time": "2024-05-22T15:18:51.671738Z",
     "start_time": "2024-05-22T15:18:51.611851Z"
    }
   },
   "cell_type": "code",
   "source": [
    "# Simulation 3: Complex non-linear\n",
    "N = [300, 1000, 3000, 6000, 10000]\n",
    "num_experiments = 5\n",
    "\n",
    "# Simulation setup\n",
    "e = lambda x: 0.3\n",
    "d = 20\n",
    "sig = lambda x: 2 / (1 + np.exp(-12 * (x - 1/2)))\n",
    "mu0 = lambda x: -0.5 * sig(x[0]) * sig(x[1])\n",
    "mu1 = lambda x: 0.5 * sig(x[0]) * sig(x[1])"
   ],
   "id": "bf029fd66a1a0020",
   "execution_count": 5,
   "outputs": []
  },
  {
   "metadata": {
    "ExecuteTime": {
     "end_time": "2024-05-22T16:27:43.787974Z",
     "start_time": "2024-05-22T15:18:51.676126Z"
    }
   },
   "cell_type": "code",
   "source": [
    "from Simulation.Perform_experiments import (iterate_experiments)\n",
    "import warnings\n",
    "warnings.filterwarnings(\"ignore\", message=\"Do not pass an `input_shape`/`input_dim` argument to a layer.\")\n",
    "\n",
    "# NN Regressor as model\n",
    "model = \"NN\"\n",
    "s_mse_total, t_mse_total, x_mse_total = iterate_experiments(N, num_experiments, e, d, mu0, mu1, model)\n",
    "s_mse_nn = np.mean(s_mse_total, axis=0)\n",
    "t_mse_nn = np.mean(t_mse_total, axis=0)\n",
    "x_mse_nn = np.mean(x_mse_total, axis=0)"
   ],
   "id": "dd68b841f6520ba5",
   "execution_count": 6,
   "outputs": []
  },
  {
   "metadata": {
    "ExecuteTime": {
     "end_time": "2024-05-22T16:27:44.025446Z",
     "start_time": "2024-05-22T16:27:43.789975Z"
    }
   },
   "cell_type": "code",
   "source": [
    "# Plotting the average MSE for different num of samples\n",
    "plt.plot(N, s_mse_nn, marker='o', label='S-learner')\n",
    "plt.plot(N, t_mse_nn, marker='o', label='T-learner')\n",
    "plt.plot(N, x_mse_nn, marker='o', label='X-learner')\n",
    "plt.xlabel('Number of samples')\n",
    "plt.ylabel('MSE')\n",
    "plt.title('Simulation 3: NN Regressor')\n",
    "plt.legend()\n",
    "plt.show()"
   ],
   "id": "9768de5b97139a5b",
   "execution_count": 7,
   "outputs": []
  },
  {
   "metadata": {
    "ExecuteTime": {
     "end_time": "2024-05-22T16:27:44.041482Z",
     "start_time": "2024-05-22T16:27:44.026449Z"
    }
   },
   "cell_type": "code",
   "source": [
    "print(\"NN:\")\n",
    "print(\"S-learner: \")\n",
    "print(s_mse_nn)\n",
    "print(\"T-learner: \")\n",
    "print(t_mse_nn)\n",
    "print(\"X-learner: \")\n",
    "print(x_mse_nn)"
   ],
   "id": "a3426868498c852f",
   "execution_count": 8,
   "outputs": []
  },
  {
   "metadata": {
    "ExecuteTime": {
     "end_time": "2024-05-22T16:27:44.057479Z",
     "start_time": "2024-05-22T16:27:44.042479Z"
    }
   },
   "cell_type": "code",
   "source": "",
   "id": "36f1874c4c833cdd",
   "execution_count": 8,
   "outputs": []
  }
 ],
 "metadata": {
  "kernelspec": {
   "display_name": "Python 3",
   "language": "python",
   "name": "python3"
  },
  "language_info": {
   "codemirror_mode": {
    "name": "ipython",
    "version": 2
   },
   "file_extension": ".py",
   "mimetype": "text/x-python",
   "name": "python",
   "nbconvert_exporter": "python",
   "pygments_lexer": "ipython2",
   "version": "2.7.6"
  }
 },
 "nbformat": 4,
 "nbformat_minor": 5
}

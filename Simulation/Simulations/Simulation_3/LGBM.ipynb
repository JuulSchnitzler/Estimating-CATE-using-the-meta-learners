{
 "cells": [
  {
   "cell_type": "code",
   "id": "initial_id",
   "metadata": {
    "collapsed": true,
    "ExecuteTime": {
     "end_time": "2024-05-22T09:47:13.819406Z",
     "start_time": "2024-05-22T09:47:12.865116Z"
    }
   },
   "source": [
    "import numpy as np\n",
    "import warnings\n",
    "from matplotlib import pyplot as plt\n",
    "warnings.simplefilter(action='ignore', category=FutureWarning)"
   ],
   "execution_count": 1,
   "outputs": []
  },
  {
   "metadata": {
    "ExecuteTime": {
     "end_time": "2024-05-22T09:47:13.835316Z",
     "start_time": "2024-05-22T09:47:13.826366Z"
    }
   },
   "cell_type": "code",
   "source": [
    "# Simulation 3: Complex non-linear\n",
    "N = [300, 1000, 3000, 6000, 10000]\n",
    "num_experiments = 10\n",
    "\n",
    "# Simulation setup\n",
    "e = lambda x: 0.3\n",
    "d = 20\n",
    "sig = lambda x: 2 / (1 + np.exp(-12 * (x - 1/2)))\n",
    "mu0 = lambda x: -0.5 * sig(x[0]) * sig(x[1])\n",
    "mu1 = lambda x: 0.5 * sig(x[0]) * sig(x[1])"
   ],
   "id": "62f90ffafa6b4b39",
   "execution_count": 2,
   "outputs": []
  },
  {
   "metadata": {
    "ExecuteTime": {
     "end_time": "2024-05-22T09:49:28.379533Z",
     "start_time": "2024-05-22T09:47:13.837313Z"
    }
   },
   "cell_type": "code",
   "source": [
    "from Simulation.Perform_experiments import (iterate_experiments)\n",
    "\n",
    "# LGBM Regressor as model\n",
    "model = \"LGBM\"\n",
    "s_mse_total, t_mse_total, x_mse_total = iterate_experiments(N, num_experiments, e, d, mu0, mu1, model)\n",
    "s_mse_lgbm = np.mean(s_mse_total, axis=0)\n",
    "t_mse_lgbm = np.mean(t_mse_total, axis=0)\n",
    "x_mse_lgbm = np.mean(x_mse_total, axis=0)"
   ],
   "id": "91d76204e65bb4e7",
   "execution_count": 3,
   "outputs": []
  },
  {
   "metadata": {
    "ExecuteTime": {
     "end_time": "2024-05-22T15:18:20.080191Z",
     "start_time": "2024-05-22T15:18:19.283177Z"
    }
   },
   "cell_type": "code",
   "source": [
    "# Plotting the average MSE for different num of samples\n",
    "plt.plot(N, s_mse_lgbm, marker='o', label='S-learner')\n",
    "plt.plot(N, t_mse_lgbm, marker='o', label='T-learner')\n",
    "plt.plot(N, x_mse_lgbm, marker='o', label='X-learner')\n",
    "plt.xlabel('Number of samples')\n",
    "plt.ylabel('MSE')\n",
    "plt.title('Simulation 3: LGBM Regressor')\n",
    "plt.legend()\n",
    "plt.show()"
   ],
   "id": "fb68f632d694eed6",
   "execution_count": 6,
   "outputs": []
  },
  {
   "metadata": {
    "ExecuteTime": {
     "end_time": "2024-05-22T09:49:28.583278Z",
     "start_time": "2024-05-22T09:49:28.569279Z"
    }
   },
   "cell_type": "code",
   "source": [
    "print(\"LGBM:\")\n",
    "print(\"S-learner: \")\n",
    "print(s_mse_lgbm)\n",
    "print(\"T-learner: \")\n",
    "print(t_mse_lgbm)\n",
    "print(\"X-learner: \")\n",
    "print(x_mse_lgbm)"
   ],
   "id": "dd2608bb63a08565",
   "execution_count": 5,
   "outputs": []
  }
 ],
 "metadata": {
  "kernelspec": {
   "display_name": "Python 3",
   "language": "python",
   "name": "python3"
  },
  "language_info": {
   "codemirror_mode": {
    "name": "ipython",
    "version": 2
   },
   "file_extension": ".py",
   "mimetype": "text/x-python",
   "name": "python",
   "nbconvert_exporter": "python",
   "pygments_lexer": "ipython2",
   "version": "2.7.6"
  }
 },
 "nbformat": 4,
 "nbformat_minor": 5
}

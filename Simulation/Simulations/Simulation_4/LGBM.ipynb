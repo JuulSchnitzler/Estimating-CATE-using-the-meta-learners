{
 "cells": [
  {
   "cell_type": "code",
   "id": "initial_id",
   "metadata": {
    "collapsed": true,
    "ExecuteTime": {
     "end_time": "2024-05-17T08:12:20.535236Z",
     "start_time": "2024-05-17T08:12:19.734451Z"
    }
   },
   "source": [
    "import numpy as np\n",
    "import warnings\n",
    "from matplotlib import pyplot as plt\n",
    "warnings.simplefilter(action='ignore', category=FutureWarning)"
   ],
   "execution_count": 1,
   "outputs": []
  },
  {
   "metadata": {
    "ExecuteTime": {
     "end_time": "2024-05-17T08:12:20.551169Z",
     "start_time": "2024-05-17T08:12:20.537144Z"
    }
   },
   "cell_type": "code",
   "source": [
    "# Simulation 4: Choose the response functions to be equal --> zero treatment effect, global linear\n",
    "N = [300, 1000, 3000, 6000, 10000]\n",
    "num_experiments = 10\n",
    "\n",
    "# Simulation 2 setup\n",
    "e = lambda x: 0.5\n",
    "d = 5\n",
    "beta = np.random.uniform(low=1, high=30, size=d)\n",
    "mu0 = lambda x: np.dot(x, beta) \n",
    "mu1 = lambda x: mu0(x)"
   ],
   "id": "aaf1741e76cd969e",
   "execution_count": 2,
   "outputs": []
  },
  {
   "metadata": {
    "ExecuteTime": {
     "end_time": "2024-05-17T08:13:19.683201Z",
     "start_time": "2024-05-17T08:12:20.552148Z"
    }
   },
   "cell_type": "code",
   "source": [
    "from Simulation.Perform_experiments import (iterate_experiments)\n",
    "\n",
    "# LGBM Regressor as model\n",
    "model = \"LGBM\"\n",
    "s_mse_total, t_mse_total, x_mse_total = iterate_experiments(N, num_experiments, e, d, mu0, mu1, model)\n",
    "s_mse_lgbm = np.mean(s_mse_total, axis=0)\n",
    "t_mse_lgbm = np.mean(t_mse_total, axis=0)\n",
    "x_mse_lgbm = np.mean(x_mse_total, axis=0)"
   ],
   "id": "1cf3d25406b07a",
   "execution_count": 3,
   "outputs": []
  },
  {
   "metadata": {
    "ExecuteTime": {
     "end_time": "2024-05-17T08:13:48.076545Z",
     "start_time": "2024-05-17T08:13:47.931030Z"
    }
   },
   "cell_type": "code",
   "source": [
    "# Plotting the average MSE for different num of samples\n",
    "plt.plot(N, s_mse_lgbm, marker='o', label='S-learner')\n",
    "plt.plot(N, t_mse_lgbm, marker='o', label='T-learner')\n",
    "plt.plot(N, x_mse_lgbm, marker='o', label='X-learner')\n",
    "plt.xlabel('Number of samples')\n",
    "plt.ylabel('MSE')\n",
    "plt.title('Simulation 1: LGBM Regressor')\n",
    "plt.legend()\n",
    "plt.show()"
   ],
   "id": "c586ef92c4e54fb8",
   "execution_count": 5,
   "outputs": []
  },
  {
   "metadata": {},
   "cell_type": "code",
   "execution_count": null,
   "source": [
    "print(\"LGBM:\")\n",
    "print(\"S-learner: \")\n",
    "print(s_mse_lgbm)\n",
    "print(\"T-learner: \")\n",
    "print(t_mse_lgbm)\n",
    "print(\"X-learner: \")\n",
    "print(x_mse_lgbm)"
   ],
   "id": "23446ae470744941",
   "outputs": []
  }
 ],
 "metadata": {
  "kernelspec": {
   "display_name": "Python 3",
   "language": "python",
   "name": "python3"
  },
  "language_info": {
   "codemirror_mode": {
    "name": "ipython",
    "version": 2
   },
   "file_extension": ".py",
   "mimetype": "text/x-python",
   "name": "python",
   "nbconvert_exporter": "python",
   "pygments_lexer": "ipython2",
   "version": "2.7.6"
  }
 },
 "nbformat": 4,
 "nbformat_minor": 5
}

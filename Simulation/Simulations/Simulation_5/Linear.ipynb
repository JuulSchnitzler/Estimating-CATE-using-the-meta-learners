{
 "cells": [
  {
   "cell_type": "code",
   "id": "initial_id",
   "metadata": {
    "collapsed": true,
    "ExecuteTime": {
     "end_time": "2024-05-21T14:36:34.709077Z",
     "start_time": "2024-05-21T14:36:33.950047Z"
    }
   },
   "source": [
    "import numpy as np\n",
    "import warnings\n",
    "from matplotlib import pyplot as plt\n",
    "warnings.simplefilter(action='ignore', category=FutureWarning)"
   ],
   "execution_count": 1,
   "outputs": []
  },
  {
   "metadata": {
    "ExecuteTime": {
     "end_time": "2024-05-21T14:36:34.724077Z",
     "start_time": "2024-05-21T14:36:34.712078Z"
    }
   },
   "cell_type": "code",
   "source": [
    "# Simulation 5: Choose the response functions to be equal --> zero treatment effect, piecewise linear\n",
    "N = [300, 1000, 3000, 6000, 10000]\n",
    "num_experiments = 10\n",
    "\n",
    "# Simulation 2 setup\n",
    "e = lambda x: 0.5\n",
    "d = 20\n",
    "beta = np.random.uniform(low=-15, high=15, size=d)\n",
    "\n",
    "def beta_l(b):\n",
    "    beta_l_vec = np.zeros_like(b)\n",
    "    beta_l_vec[:5] = b[:5]\n",
    "    return beta_l_vec\n",
    "\n",
    "def beta_m(b):\n",
    "    beta_m_vec = np.zeros_like(b)\n",
    "    beta_m_vec[5:10] = b[5:10]\n",
    "    return beta_m_vec\n",
    "\n",
    "def beta_u(b):\n",
    "    beta_u_vec = np.zeros_like(b)\n",
    "    beta_u_vec[10:15] = b[10:15]\n",
    "    return beta_u_vec\n",
    "\n",
    "def mu0(x):\n",
    "    if x[19] < -0.4: \n",
    "        return np.dot(x, beta_l(beta))\n",
    "    elif -0.4 <= x[19] <= 0.4:\n",
    "        return np.dot(x, beta_m(beta))\n",
    "    elif 0.4 < x[19]:\n",
    "        return np.dot(x, beta_u(beta))\n",
    "    \n",
    "def mu1(x):\n",
    "    return mu0(x)"
   ],
   "id": "ea759066cd0a33d",
   "execution_count": 2,
   "outputs": []
  },
  {
   "metadata": {
    "ExecuteTime": {
     "end_time": "2024-05-21T14:36:47.613155Z",
     "start_time": "2024-05-21T14:36:34.725081Z"
    }
   },
   "cell_type": "code",
   "source": [
    "from Simulation.Perform_experiments import (iterate_experiments)\n",
    "\n",
    "# Linear Regressor as model\n",
    "model = \"LinearRegression\"\n",
    "s_mse_total, t_mse_total, x_mse_total = iterate_experiments(N, num_experiments, e, d, mu0, mu1, model)\n",
    "s_mse_lin = np.mean(s_mse_total, axis=0)\n",
    "t_mse_lin = np.mean(t_mse_total, axis=0)\n",
    "x_mse_lin = np.mean(x_mse_total, axis=0)"
   ],
   "id": "6a2bd93069792b6",
   "execution_count": 3,
   "outputs": []
  },
  {
   "metadata": {
    "ExecuteTime": {
     "end_time": "2024-05-21T14:36:47.819957Z",
     "start_time": "2024-05-21T14:36:47.614155Z"
    }
   },
   "cell_type": "code",
   "source": [
    "# Plotting the average MSE for different num of samples\n",
    "plt.plot(N, s_mse_lin, marker='o', label='S-learner')\n",
    "plt.plot(N, t_mse_lin, marker='o', label='T-learner')\n",
    "plt.plot(N, x_mse_lin, marker='o', label='X-learner')\n",
    "plt.xlabel('Number of samples')\n",
    "plt.ylabel('MSE')\n",
    "plt.title('Simulation 5: Linear Regression')\n",
    "plt.legend()\n",
    "plt.show()"
   ],
   "id": "31efbb28ab724974",
   "execution_count": 4,
   "outputs": []
  },
  {
   "metadata": {
    "ExecuteTime": {
     "end_time": "2024-05-21T14:36:47.835956Z",
     "start_time": "2024-05-21T14:36:47.823961Z"
    }
   },
   "cell_type": "code",
   "source": [
    "print(\"LINEAR\")\n",
    "print(\"S-learner: \")\n",
    "print(s_mse_lin)\n",
    "print(\"T-learner: \")\n",
    "print(t_mse_lin)\n",
    "print(\"X-learner: \")\n",
    "print(x_mse_lin)"
   ],
   "id": "b07b7490d6615d6",
   "execution_count": 5,
   "outputs": []
  }
 ],
 "metadata": {
  "kernelspec": {
   "display_name": "Python 3",
   "language": "python",
   "name": "python3"
  },
  "language_info": {
   "codemirror_mode": {
    "name": "ipython",
    "version": 2
   },
   "file_extension": ".py",
   "mimetype": "text/x-python",
   "name": "python",
   "nbconvert_exporter": "python",
   "pygments_lexer": "ipython2",
   "version": "2.7.6"
  }
 },
 "nbformat": 4,
 "nbformat_minor": 5
}

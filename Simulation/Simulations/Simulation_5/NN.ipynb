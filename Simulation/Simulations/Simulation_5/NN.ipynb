{
 "cells": [
  {
   "cell_type": "code",
   "id": "initial_id",
   "metadata": {
    "collapsed": true,
    "ExecuteTime": {
     "end_time": "2024-05-21T20:06:06.489733Z",
     "start_time": "2024-05-21T20:06:05.634503Z"
    }
   },
   "source": [
    "import numpy as np\n",
    "import warnings\n",
    "from matplotlib import pyplot as plt\n",
    "warnings.simplefilter(action='ignore', category=FutureWarning)"
   ],
   "execution_count": 1,
   "outputs": []
  },
  {
   "metadata": {
    "ExecuteTime": {
     "end_time": "2024-05-21T20:06:06.505728Z",
     "start_time": "2024-05-21T20:06:06.492731Z"
    }
   },
   "cell_type": "code",
   "source": [
    "# Simulation 5: Choose the response functions to be equal --> zero treatment effect, piecewise linear\n",
    "N = [300, 1000, 3000, 6000, 10000]\n",
    "num_experiments = 5\n",
    "\n",
    "# Simulation 2 setup\n",
    "e = lambda x: 0.5\n",
    "d = 20\n",
    "beta = np.random.uniform(low=-15, high=15, size=d)\n",
    "\n",
    "def beta_l(b):\n",
    "    beta_l_vec = np.zeros_like(b)\n",
    "    beta_l_vec[:5] = b[:5]\n",
    "    return beta_l_vec\n",
    "\n",
    "def beta_m(b):\n",
    "    beta_m_vec = np.zeros_like(b)\n",
    "    beta_m_vec[5:10] = b[5:10]\n",
    "    return beta_m_vec\n",
    "\n",
    "def beta_u(b):\n",
    "    beta_u_vec = np.zeros_like(b)\n",
    "    beta_u_vec[10:15] = b[10:15]\n",
    "    return beta_u_vec\n",
    "\n",
    "def mu0(x):\n",
    "    if x[19] < -0.4: \n",
    "        return np.dot(x, beta_l(beta))\n",
    "    elif -0.4 <= x[19] <= 0.4:\n",
    "        return np.dot(x, beta_m(beta))\n",
    "    elif 0.4 < x[19]:\n",
    "        return np.dot(x, beta_u(beta))\n",
    "    \n",
    "def mu1(x):\n",
    "    return mu0(x)"
   ],
   "id": "bf029fd66a1a0020",
   "execution_count": 2,
   "outputs": []
  },
  {
   "metadata": {
    "ExecuteTime": {
     "end_time": "2024-05-21T20:58:16.679573Z",
     "start_time": "2024-05-21T20:06:06.506729Z"
    }
   },
   "cell_type": "code",
   "source": [
    "from Simulation.Perform_experiments import (iterate_experiments)\n",
    "import warnings\n",
    "warnings.filterwarnings(\"ignore\", message=\"Do not pass an `input_shape`/`input_dim` argument to a layer.\")\n",
    "\n",
    "# NN Regressor as model\n",
    "model = \"NN\"\n",
    "s_mse_total, t_mse_total, x_mse_total = iterate_experiments(N, num_experiments, e, d, mu0, mu1, model)\n",
    "s_mse_nn = np.mean(s_mse_total, axis=0)\n",
    "t_mse_nn = np.mean(t_mse_total, axis=0)\n",
    "x_mse_nn = np.mean(x_mse_total, axis=0)"
   ],
   "id": "dd68b841f6520ba5",
   "execution_count": 3,
   "outputs": []
  },
  {
   "metadata": {
    "ExecuteTime": {
     "end_time": "2024-05-21T20:58:17.067309Z",
     "start_time": "2024-05-21T20:58:16.683531Z"
    }
   },
   "cell_type": "code",
   "source": [
    "# Plotting the average MSE for different num of samples\n",
    "plt.plot(N, s_mse_nn, marker='o', label='S-learner')\n",
    "plt.plot(N, t_mse_nn, marker='o', label='T-learner')\n",
    "plt.plot(N, x_mse_nn, marker='o', label='X-learner')\n",
    "plt.xlabel('Number of samples')\n",
    "plt.ylabel('MSE')\n",
    "plt.title('Simulation 5: NN Regressor')\n",
    "plt.legend()\n",
    "plt.show()"
   ],
   "id": "9768de5b97139a5b",
   "execution_count": 4,
   "outputs": []
  },
  {
   "metadata": {
    "ExecuteTime": {
     "end_time": "2024-05-21T20:58:17.082308Z",
     "start_time": "2024-05-21T20:58:17.070307Z"
    }
   },
   "cell_type": "code",
   "source": [
    "print(\"NN:\")\n",
    "print(\"S-learner: \")\n",
    "print(s_mse_nn)\n",
    "print(\"T-learner: \")\n",
    "print(t_mse_nn)\n",
    "print(\"X-learner: \")\n",
    "print(x_mse_nn)"
   ],
   "id": "a3426868498c852f",
   "execution_count": 5,
   "outputs": []
  }
 ],
 "metadata": {
  "kernelspec": {
   "display_name": "Python 3",
   "language": "python",
   "name": "python3"
  },
  "language_info": {
   "codemirror_mode": {
    "name": "ipython",
    "version": 2
   },
   "file_extension": ".py",
   "mimetype": "text/x-python",
   "name": "python",
   "nbconvert_exporter": "python",
   "pygments_lexer": "ipython2",
   "version": "2.7.6"
  }
 },
 "nbformat": 4,
 "nbformat_minor": 5
}

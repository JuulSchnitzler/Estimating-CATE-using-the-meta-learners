{
 "cells": [
  {
   "metadata": {
    "ExecuteTime": {
     "end_time": "2024-05-28T10:30:32.197501Z",
     "start_time": "2024-05-28T10:30:31.433923Z"
    }
   },
   "cell_type": "code",
   "source": [
    "import numpy as np\n",
    "import warnings\n",
    "from matplotlib import pyplot as plt\n",
    "warnings.simplefilter(action='ignore', category=FutureWarning)"
   ],
   "id": "a777d9ae0f62d497",
   "execution_count": 1,
   "outputs": []
  },
  {
   "metadata": {
    "ExecuteTime": {
     "end_time": "2024-05-28T10:30:32.212515Z",
     "start_time": "2024-05-28T10:30:32.198490Z"
    }
   },
   "cell_type": "code",
   "source": [
    "# Simulation 1: The unbalanced case with a simple CATE\n",
    "N = [300, 1000, 3000, 6000, 10000]\n",
    "num_experiments = 10\n",
    "\n",
    "# # Simulation setup\n",
    "e = lambda x: 0.1 \n",
    "d = 20\n",
    "beta = np.random.uniform(low=-5, high=5, size=d)\n",
    "mu0 = lambda x: np.dot(x, beta) + 5 * (x[0] > 0.5)\n",
    "mu1 = lambda x: mu0(x) + 8 * (x[1] > 0.1)"
   ],
   "id": "14fcf394365cceb4",
   "execution_count": 2,
   "outputs": []
  },
  {
   "metadata": {
    "ExecuteTime": {
     "end_time": "2024-05-28T10:32:45.346561Z",
     "start_time": "2024-05-28T10:30:32.214517Z"
    }
   },
   "cell_type": "code",
   "source": [
    "from Simulation.Perform_experiments_prop import iterate_experiments\n",
    "\n",
    "# LGBM Regressor as model\n",
    "model = \"LGBM\"\n",
    "x_mse_total_logistic, x_mse_total_rf, x_mse_total_dt = iterate_experiments(N, num_experiments, e, d, mu0, mu1, model)\n",
    "x_mse_logistic = np.mean(x_mse_total_logistic, axis=0)\n",
    "x_mse_rf = np.mean(x_mse_total_rf, axis=0)\n",
    "x_mse_dt = np.mean(x_mse_total_dt, axis=0)"
   ],
   "id": "1999d2fd68a813c1",
   "execution_count": 3,
   "outputs": []
  },
  {
   "metadata": {
    "ExecuteTime": {
     "end_time": "2024-05-28T10:32:45.646537Z",
     "start_time": "2024-05-28T10:32:45.349562Z"
    }
   },
   "cell_type": "code",
   "source": [
    "# Plotting the average MSE for different num of samples\n",
    "plt.plot(N, x_mse_logistic, marker='o', label='X-learner, logistic propensity model')\n",
    "plt.plot(N, x_mse_rf, marker='o', label='X-learner, random-forest propensity model')\n",
    "plt.plot(N, x_mse_dt, marker='o', label='X-learner, decision-tree propensity model')\n",
    "plt.xlabel('Number of samples')\n",
    "plt.ylabel('MSE')\n",
    "plt.title('Simulation 1: LGBM Regressor')\n",
    "plt.legend()\n",
    "plt.show()"
   ],
   "id": "ee4ad7f626d4e62b",
   "execution_count": 4,
   "outputs": []
  },
  {
   "metadata": {
    "ExecuteTime": {
     "end_time": "2024-05-28T10:32:45.662192Z",
     "start_time": "2024-05-28T10:32:45.650536Z"
    }
   },
   "cell_type": "code",
   "source": [
    "print(\"LGBM:\")\n",
    "print(\"X-learner, logistic:\")\n",
    "print(x_mse_logistic)\n",
    "print(\"X-learner, random forest:\")\n",
    "print(x_mse_rf)\n",
    "print(\"X-learner, decision tree:\")\n",
    "print(x_mse_dt)"
   ],
   "id": "b2c911652b50b29a",
   "execution_count": 5,
   "outputs": []
  },
  {
   "metadata": {
    "ExecuteTime": {
     "end_time": "2024-05-28T10:32:45.677654Z",
     "start_time": "2024-05-28T10:32:45.664194Z"
    }
   },
   "cell_type": "code",
   "source": "",
   "id": "854a4f129f1910d6",
   "execution_count": 5,
   "outputs": []
  }
 ],
 "metadata": {
  "kernelspec": {
   "display_name": "Python 3",
   "language": "python",
   "name": "python3"
  },
  "language_info": {
   "codemirror_mode": {
    "name": "ipython",
    "version": 2
   },
   "file_extension": ".py",
   "mimetype": "text/x-python",
   "name": "python",
   "nbconvert_exporter": "python",
   "pygments_lexer": "ipython2",
   "version": "2.7.6"
  }
 },
 "nbformat": 4,
 "nbformat_minor": 5
}

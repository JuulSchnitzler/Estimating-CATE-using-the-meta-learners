{
 "cells": [
  {
   "cell_type": "code",
   "id": "initial_id",
   "metadata": {
    "collapsed": true,
    "ExecuteTime": {
     "end_time": "2024-05-28T10:36:56.166793Z",
     "start_time": "2024-05-28T10:36:56.140494Z"
    }
   },
   "source": [
    "import numpy as np\n",
    "import warnings\n",
    "from matplotlib import pyplot as plt\n",
    "warnings.simplefilter(action='ignore', category=FutureWarning)"
   ],
   "execution_count": 6,
   "outputs": []
  },
  {
   "metadata": {
    "ExecuteTime": {
     "end_time": "2024-05-28T10:36:56.182898Z",
     "start_time": "2024-05-28T10:36:56.169859Z"
    }
   },
   "cell_type": "code",
   "source": [
    "# Simulation 1: The unbalanced case with a simple CATE\n",
    "N = [300, 1000, 3000, 6000, 10000]\n",
    "num_experiments = 10\n",
    "\n",
    "# # Simulation setup\n",
    "e = lambda x: 0.1 \n",
    "d = 20\n",
    "beta = np.random.uniform(low=-5, high=5, size=d)\n",
    "mu0 = lambda x: np.dot(x, beta) + 5 * (x[0] > 0.5)\n",
    "mu1 = lambda x: mu0(x) + 8 * (x[1] > 0.1)"
   ],
   "id": "8b69fd37e3fb009f",
   "execution_count": 7,
   "outputs": []
  },
  {
   "metadata": {
    "ExecuteTime": {
     "end_time": "2024-05-28T10:51:09.790786Z",
     "start_time": "2024-05-28T10:36:56.183865Z"
    }
   },
   "cell_type": "code",
   "source": [
    "from Simulation.Perform_experiments_prop import iterate_experiments\n",
    "\n",
    "# Support Vector Regressor as model\n",
    "model = \"SVM\"\n",
    "x_mse_total_logistic, x_mse_total_rf, x_mse_total_dt = iterate_experiments(N, num_experiments, e, d, mu0, mu1, model)\n",
    "x_mse_logistic = np.mean(x_mse_total_logistic, axis=0)\n",
    "x_mse_rf = np.mean(x_mse_total_rf, axis=0)\n",
    "x_mse_dt = np.mean(x_mse_total_dt, axis=0)"
   ],
   "id": "63ac61999279cb6b",
   "execution_count": 8,
   "outputs": []
  },
  {
   "metadata": {
    "ExecuteTime": {
     "end_time": "2024-05-28T10:51:09.993822Z",
     "start_time": "2024-05-28T10:51:09.795762Z"
    }
   },
   "cell_type": "code",
   "source": [
    "# Plotting the average MSE for different num of samples\n",
    "plt.plot(N, x_mse_logistic, marker='o', label='X-learner, logistic propensity model')\n",
    "plt.plot(N, x_mse_rf, marker='o', label='X-learner, random-forest propensity model')\n",
    "plt.plot(N, x_mse_dt, marker='o', label='X-learner, decision-tree propensity model')\n",
    "plt.xlabel('Number of samples')\n",
    "plt.ylabel('MSE')\n",
    "plt.title('Simulation 1: Support Vector Regressor')\n",
    "plt.legend()\n",
    "plt.show()"
   ],
   "id": "cae234d01bdc429e",
   "execution_count": 9,
   "outputs": []
  },
  {
   "metadata": {
    "ExecuteTime": {
     "end_time": "2024-05-28T10:51:10.009110Z",
     "start_time": "2024-05-28T10:51:09.996455Z"
    }
   },
   "cell_type": "code",
   "source": [
    "print(\"SVM:\")\n",
    "print(\"X-learner, logistic:\")\n",
    "print(x_mse_logistic)\n",
    "print(\"X-learner, random forest:\")\n",
    "print(x_mse_rf)\n",
    "print(\"X-learner, decision tree:\")\n",
    "print(x_mse_dt)"
   ],
   "id": "2f4e7e45c0d002cd",
   "execution_count": 10,
   "outputs": []
  }
 ],
 "metadata": {
  "kernelspec": {
   "display_name": "Python 3",
   "language": "python",
   "name": "python3"
  },
  "language_info": {
   "codemirror_mode": {
    "name": "ipython",
    "version": 2
   },
   "file_extension": ".py",
   "mimetype": "text/x-python",
   "name": "python",
   "nbconvert_exporter": "python",
   "pygments_lexer": "ipython2",
   "version": "2.7.6"
  }
 },
 "nbformat": 4,
 "nbformat_minor": 5
}

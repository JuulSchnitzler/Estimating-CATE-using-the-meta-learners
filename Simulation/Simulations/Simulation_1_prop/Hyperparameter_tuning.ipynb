{
 "cells": [
  {
   "cell_type": "code",
   "id": "initial_id",
   "metadata": {
    "collapsed": true,
    "ExecuteTime": {
     "end_time": "2024-05-29T10:14:32.911536Z",
     "start_time": "2024-05-29T10:14:32.123953Z"
    }
   },
   "source": [
    "import numpy as np\n",
    "import warnings\n",
    "from matplotlib import pyplot as plt\n",
    "warnings.simplefilter(action='ignore', category=FutureWarning)"
   ],
   "execution_count": 1,
   "outputs": []
  },
  {
   "metadata": {
    "ExecuteTime": {
     "end_time": "2024-05-29T10:14:32.926691Z",
     "start_time": "2024-05-29T10:14:32.912520Z"
    }
   },
   "cell_type": "code",
   "source": [
    "# Simulation 1: The unbalanced case with a simple CATE\n",
    "N = 5000\n",
    "num_experiments = 10\n",
    "\n",
    "# # Simulation setup\n",
    "e = lambda x: 0.1 \n",
    "d = 20\n",
    "beta = np.random.uniform(low=-5, high=5, size=d)\n",
    "mu0 = lambda x: np.dot(x, beta) + 5 * (x[0] > 0.5)\n",
    "mu1 = lambda x: mu0(x) + 8 * (x[1] > 0.1)"
   ],
   "id": "e83b5338e854af10",
   "execution_count": 2,
   "outputs": []
  },
  {
   "metadata": {
    "ExecuteTime": {
     "end_time": "2024-05-29T10:16:50.883447Z",
     "start_time": "2024-05-29T10:14:32.927717Z"
    }
   },
   "cell_type": "code",
   "source": [
    "from Simulation.Perform_experiments_prop import hyperparameter_tuning_iterate\n",
    "\n",
    "# Hyperparameter tuning\n",
    "logistic_params_list, rf_params_list, dt_params_list, gbc_params_list = hyperparameter_tuning_iterate(N, num_experiments, e, d, mu0, mu1)\n",
    "\n",
    "# print(logistic_params_list)\n",
    "# print(rf_params_list)\n",
    "# print(dt_params_list)\n",
    "print(gbc_params_list)"
   ],
   "id": "3a17c5ed2596bca3",
   "execution_count": 3,
   "outputs": []
  },
  {
   "metadata": {},
   "cell_type": "code",
   "source": "",
   "id": "3d6b423b5111ba65",
   "execution_count": null,
   "outputs": []
  }
 ],
 "metadata": {
  "kernelspec": {
   "display_name": "Python 3",
   "language": "python",
   "name": "python3"
  },
  "language_info": {
   "codemirror_mode": {
    "name": "ipython",
    "version": 2
   },
   "file_extension": ".py",
   "mimetype": "text/x-python",
   "name": "python",
   "nbconvert_exporter": "python",
   "pygments_lexer": "ipython2",
   "version": "2.7.6"
  }
 },
 "nbformat": 4,
 "nbformat_minor": 5
}
